{
  "nbformat": 4,
  "nbformat_minor": 0,
  "metadata": {
    "colab": {
      "provenance": [],
      "include_colab_link": true
    },
    "kernelspec": {
      "name": "python3",
      "display_name": "Python 3"
    },
    "language_info": {
      "name": "python"
    }
  },
  "cells": [
    {
      "cell_type": "markdown",
      "metadata": {
        "id": "view-in-github",
        "colab_type": "text"
      },
      "source": [
        "<a href=\"https://colab.research.google.com/github/AntoniaCristinaCosta/Aulas-da-Lest-s-Code/blob/main/C%C3%B3pia_de_C%C3%B3pia_de_Projeto_T%C3%A9cnicas_de_Programa%C3%A7%C3%A3o_I_An%C3%A1lise_de_Dados.ipynb\" target=\"_parent\"><img src=\"https://colab.research.google.com/assets/colab-badge.svg\" alt=\"Open In Colab\"/></a>"
      ]
    },
    {
      "cell_type": "markdown",
      "source": [
        "## Análise de Dados - Cursos plataforma de ensino *online*\n",
        "\n",
        "A análise de dados é uma ferramenta essencial para impulsionar os negócios de uma empresa, e consequentemente, agregar valor.\n",
        "<br>\n",
        "<br>\n",
        "Um dos profissionais necessários para a geração de valor para empresas, é o cientista/analista de dados. Este profissional é capaz de retirar insights de diversas fontes de dados.\n",
        "<br>\n",
        "<br>\n",
        "Dito tudo isso, você, como cientista/analista de dados recebeu a missão de analisar dados de uma empresa ensino online de tecnologia. Seu principal objetivo, é através dos dados (disponibilizados na <a href=\"https://drive.google.com/file/d/1PE-9PTK5twBuUOuuKAk3Oo02Is8Dr8q-/view?usp=share_link\">pasta compartilhada</a> deste módulo), é o de responder algumas perguntas de negócios para auxiliar a empresa a aprimorar os seus serviços e produtos.\n",
        "<br>\n",
        "<br>\n",
        "Detalhes da base de dados podem ser vistos na plataforma Kaggle pelo <a href=\"https://www.kaggle.com/datasets/thedevastator/udemy-courses-revenue-generation-and-course-anal\">link</a>\n",
        "<br>\n",
        "<br>\n",
        "Para isso, use os conhecimentos obtidos neste módulo (e anteriores) para responder as seguintes questões:\n",
        "\n",
        "**Dicas:**\n",
        "\n",
        "- Serão três diferentes bases de dados disponibilizadas na pasta do módulo, separadas por assunto (curso). Porém, todas elas contêm o mesmo cabeçalho. Logo, para que consiga responder as perguntas abaixo, unifique-as em um único **DataFrame** do pandas, e realize as análises.\n",
        "- Não é necessário criar gráficos/visualizações para apresentar os resultados de cada pergunta. Porém, se você estiver confortável para criá-los quando necessário, fique à vontade."
      ],
      "metadata": {
        "id": "OwnjctYVYDiH"
      }
    },
    {
      "cell_type": "markdown",
      "source": [
        "### Perguntas a serem respondidas a partir dos dados."
      ],
      "metadata": {
        "id": "CAutWLQXtZm1"
      }
    },
    {
      "cell_type": "markdown",
      "source": [
        "1. Quantos cursos estão disponíveis na plataforma?"
      ],
      "metadata": {
        "id": "LxbUDG_aoEJX"
      }
    },
    {
      "cell_type": "code",
      "source": [
        "import numpy as np"
      ],
      "metadata": {
        "id": "rixRyO1Sg4By"
      },
      "execution_count": 1,
      "outputs": []
    },
    {
      "cell_type": "code",
      "source": [
        "import pandas as pd\n",
        "cursos = pd.read_csv(\"/content/cursos.csv\", sep=\",\")\n"
      ],
      "metadata": {
        "id": "JVc3skEVoPr8"
      },
      "execution_count": 2,
      "outputs": []
    },
    {
      "cell_type": "code",
      "source": [
        "cursos\n"
      ],
      "metadata": {
        "colab": {
          "base_uri": "https://localhost:8080/",
          "height": 956
        },
        "id": "RZ9nUGzbgZAL",
        "outputId": "128362eb-d3f3-4325-9b41-16b703a5e2b7"
      },
      "execution_count": null,
      "outputs": [
        {
          "output_type": "execute_result",
          "data": {
            "text/plain": [
              "      Unnamed: 0  course_id  \\\n",
              "0              0    49798.0   \n",
              "1              1    48841.0   \n",
              "2              2   133536.0   \n",
              "3              3   151668.0   \n",
              "4              4   648826.0   \n",
              "...          ...        ...   \n",
              "3676        3676  1227578.0   \n",
              "3677        3677  1277924.0   \n",
              "3678        3678  1248172.0   \n",
              "3679        3679  1250934.0   \n",
              "3680        3680  1270222.0   \n",
              "\n",
              "                                           course_title  \\\n",
              "0     bitcoin or how i learned to stop worrying and ...   \n",
              "1       accounting in 60 minutes - a brief introduction   \n",
              "2                  stock market investing for beginners   \n",
              "3                    introduction to financial modeling   \n",
              "4            the complete financial analyst course 2017   \n",
              "...                                                 ...   \n",
              "3676           learning path: the road to elasticsearch   \n",
              "3677                            angular 4 front to back   \n",
              "3678            essentials of spring 5.0 for developers   \n",
              "3679  display and analyze gis data on the web with l...   \n",
              "3680  learning path: web applications with spring an...   \n",
              "\n",
              "                                                    url  price  \\\n",
              "0     https://www.udemy.com/bitcoin-or-how-i-learned...    0.0   \n",
              "1     https://www.udemy.com/accounting-in-60-minutes...    0.0   \n",
              "2     https://www.udemy.com/the-beginners-guide-to-t...    0.0   \n",
              "3     https://www.udemy.com/financial-modeling-asimp...    0.0   \n",
              "4     https://www.udemy.com/the-complete-financial-a...  195.0   \n",
              "...                                                 ...    ...   \n",
              "3676  https://www.udemy.com/learning-path-the-road-t...  200.0   \n",
              "3677     https://www.udemy.com/angular-4-front-to-back/   40.0   \n",
              "3678  https://www.udemy.com/essentials-of-spring-50-...  125.0   \n",
              "3679  https://www.udemy.com/display-and-analyze-gis-...  100.0   \n",
              "3680  https://www.udemy.com/learning-path-web-applic...  200.0   \n",
              "\n",
              "      num_subscribers  num_reviews  num_lectures           level  Rating  \\\n",
              "0             65576.0        936.0          24.0      All Levels    0.56   \n",
              "1             56659.0       4397.0          16.0  Beginner Level    0.95   \n",
              "2             50855.0       2698.0          15.0      All Levels    0.91   \n",
              "3             29167.0       1463.0           8.0      All Levels    0.18   \n",
              "4             24481.0       2347.0         174.0      All Levels    0.37   \n",
              "...               ...          ...           ...             ...     ...   \n",
              "3676             50.0          5.0          60.0  Beginner Level    0.96   \n",
              "3677             44.0          0.0          68.0      All Levels    0.15   \n",
              "3678             34.0          2.0          21.0  Beginner Level    0.46   \n",
              "3679             25.0          4.0          66.0  Beginner Level    0.67   \n",
              "3680             19.0          2.0          33.0  Beginner Level    0.12   \n",
              "\n",
              "      content_duration   published_timestamp                   subject  \n",
              "0                  8.0  2013-04-20T02:25:22Z          Business Finance  \n",
              "1                  1.5  2013-04-07T21:39:25Z          Business Finance  \n",
              "2                  1.5  2013-12-25T19:53:34Z          Business Finance  \n",
              "3                  1.5  2014-05-27T16:22:16Z          Business Finance  \n",
              "4                 10.0  2016-01-21T01:38:48Z          Business Finance  \n",
              "...                ...                   ...                       ...  \n",
              "3676               5.0  2017-05-29T17:56:24Z  Subject: Web Development  \n",
              "3677               8.5  2017-07-06T15:04:55Z  Subject: Web Development  \n",
              "3678               1.5  2017-06-11T18:34:40Z  Subject: Web Development  \n",
              "3679              12.5  2017-06-15T21:17:43Z  Subject: Web Development  \n",
              "3680               4.0  2017-06-28T21:04:21Z  Subject: Web Development  \n",
              "\n",
              "[3681 rows x 13 columns]"
            ],
            "text/html": [
              "\n",
              "  <div id=\"df-106e402d-44d3-423e-ba5d-7119dd63c686\">\n",
              "    <div class=\"colab-df-container\">\n",
              "      <div>\n",
              "<style scoped>\n",
              "    .dataframe tbody tr th:only-of-type {\n",
              "        vertical-align: middle;\n",
              "    }\n",
              "\n",
              "    .dataframe tbody tr th {\n",
              "        vertical-align: top;\n",
              "    }\n",
              "\n",
              "    .dataframe thead th {\n",
              "        text-align: right;\n",
              "    }\n",
              "</style>\n",
              "<table border=\"1\" class=\"dataframe\">\n",
              "  <thead>\n",
              "    <tr style=\"text-align: right;\">\n",
              "      <th></th>\n",
              "      <th>Unnamed: 0</th>\n",
              "      <th>course_id</th>\n",
              "      <th>course_title</th>\n",
              "      <th>url</th>\n",
              "      <th>price</th>\n",
              "      <th>num_subscribers</th>\n",
              "      <th>num_reviews</th>\n",
              "      <th>num_lectures</th>\n",
              "      <th>level</th>\n",
              "      <th>Rating</th>\n",
              "      <th>content_duration</th>\n",
              "      <th>published_timestamp</th>\n",
              "      <th>subject</th>\n",
              "    </tr>\n",
              "  </thead>\n",
              "  <tbody>\n",
              "    <tr>\n",
              "      <th>0</th>\n",
              "      <td>0</td>\n",
              "      <td>49798.0</td>\n",
              "      <td>bitcoin or how i learned to stop worrying and ...</td>\n",
              "      <td>https://www.udemy.com/bitcoin-or-how-i-learned...</td>\n",
              "      <td>0.0</td>\n",
              "      <td>65576.0</td>\n",
              "      <td>936.0</td>\n",
              "      <td>24.0</td>\n",
              "      <td>All Levels</td>\n",
              "      <td>0.56</td>\n",
              "      <td>8.0</td>\n",
              "      <td>2013-04-20T02:25:22Z</td>\n",
              "      <td>Business Finance</td>\n",
              "    </tr>\n",
              "    <tr>\n",
              "      <th>1</th>\n",
              "      <td>1</td>\n",
              "      <td>48841.0</td>\n",
              "      <td>accounting in 60 minutes - a brief introduction</td>\n",
              "      <td>https://www.udemy.com/accounting-in-60-minutes...</td>\n",
              "      <td>0.0</td>\n",
              "      <td>56659.0</td>\n",
              "      <td>4397.0</td>\n",
              "      <td>16.0</td>\n",
              "      <td>Beginner Level</td>\n",
              "      <td>0.95</td>\n",
              "      <td>1.5</td>\n",
              "      <td>2013-04-07T21:39:25Z</td>\n",
              "      <td>Business Finance</td>\n",
              "    </tr>\n",
              "    <tr>\n",
              "      <th>2</th>\n",
              "      <td>2</td>\n",
              "      <td>133536.0</td>\n",
              "      <td>stock market investing for beginners</td>\n",
              "      <td>https://www.udemy.com/the-beginners-guide-to-t...</td>\n",
              "      <td>0.0</td>\n",
              "      <td>50855.0</td>\n",
              "      <td>2698.0</td>\n",
              "      <td>15.0</td>\n",
              "      <td>All Levels</td>\n",
              "      <td>0.91</td>\n",
              "      <td>1.5</td>\n",
              "      <td>2013-12-25T19:53:34Z</td>\n",
              "      <td>Business Finance</td>\n",
              "    </tr>\n",
              "    <tr>\n",
              "      <th>3</th>\n",
              "      <td>3</td>\n",
              "      <td>151668.0</td>\n",
              "      <td>introduction to financial modeling</td>\n",
              "      <td>https://www.udemy.com/financial-modeling-asimp...</td>\n",
              "      <td>0.0</td>\n",
              "      <td>29167.0</td>\n",
              "      <td>1463.0</td>\n",
              "      <td>8.0</td>\n",
              "      <td>All Levels</td>\n",
              "      <td>0.18</td>\n",
              "      <td>1.5</td>\n",
              "      <td>2014-05-27T16:22:16Z</td>\n",
              "      <td>Business Finance</td>\n",
              "    </tr>\n",
              "    <tr>\n",
              "      <th>4</th>\n",
              "      <td>4</td>\n",
              "      <td>648826.0</td>\n",
              "      <td>the complete financial analyst course 2017</td>\n",
              "      <td>https://www.udemy.com/the-complete-financial-a...</td>\n",
              "      <td>195.0</td>\n",
              "      <td>24481.0</td>\n",
              "      <td>2347.0</td>\n",
              "      <td>174.0</td>\n",
              "      <td>All Levels</td>\n",
              "      <td>0.37</td>\n",
              "      <td>10.0</td>\n",
              "      <td>2016-01-21T01:38:48Z</td>\n",
              "      <td>Business Finance</td>\n",
              "    </tr>\n",
              "    <tr>\n",
              "      <th>...</th>\n",
              "      <td>...</td>\n",
              "      <td>...</td>\n",
              "      <td>...</td>\n",
              "      <td>...</td>\n",
              "      <td>...</td>\n",
              "      <td>...</td>\n",
              "      <td>...</td>\n",
              "      <td>...</td>\n",
              "      <td>...</td>\n",
              "      <td>...</td>\n",
              "      <td>...</td>\n",
              "      <td>...</td>\n",
              "      <td>...</td>\n",
              "    </tr>\n",
              "    <tr>\n",
              "      <th>3676</th>\n",
              "      <td>3676</td>\n",
              "      <td>1227578.0</td>\n",
              "      <td>learning path: the road to elasticsearch</td>\n",
              "      <td>https://www.udemy.com/learning-path-the-road-t...</td>\n",
              "      <td>200.0</td>\n",
              "      <td>50.0</td>\n",
              "      <td>5.0</td>\n",
              "      <td>60.0</td>\n",
              "      <td>Beginner Level</td>\n",
              "      <td>0.96</td>\n",
              "      <td>5.0</td>\n",
              "      <td>2017-05-29T17:56:24Z</td>\n",
              "      <td>Subject: Web Development</td>\n",
              "    </tr>\n",
              "    <tr>\n",
              "      <th>3677</th>\n",
              "      <td>3677</td>\n",
              "      <td>1277924.0</td>\n",
              "      <td>angular 4 front to back</td>\n",
              "      <td>https://www.udemy.com/angular-4-front-to-back/</td>\n",
              "      <td>40.0</td>\n",
              "      <td>44.0</td>\n",
              "      <td>0.0</td>\n",
              "      <td>68.0</td>\n",
              "      <td>All Levels</td>\n",
              "      <td>0.15</td>\n",
              "      <td>8.5</td>\n",
              "      <td>2017-07-06T15:04:55Z</td>\n",
              "      <td>Subject: Web Development</td>\n",
              "    </tr>\n",
              "    <tr>\n",
              "      <th>3678</th>\n",
              "      <td>3678</td>\n",
              "      <td>1248172.0</td>\n",
              "      <td>essentials of spring 5.0 for developers</td>\n",
              "      <td>https://www.udemy.com/essentials-of-spring-50-...</td>\n",
              "      <td>125.0</td>\n",
              "      <td>34.0</td>\n",
              "      <td>2.0</td>\n",
              "      <td>21.0</td>\n",
              "      <td>Beginner Level</td>\n",
              "      <td>0.46</td>\n",
              "      <td>1.5</td>\n",
              "      <td>2017-06-11T18:34:40Z</td>\n",
              "      <td>Subject: Web Development</td>\n",
              "    </tr>\n",
              "    <tr>\n",
              "      <th>3679</th>\n",
              "      <td>3679</td>\n",
              "      <td>1250934.0</td>\n",
              "      <td>display and analyze gis data on the web with l...</td>\n",
              "      <td>https://www.udemy.com/display-and-analyze-gis-...</td>\n",
              "      <td>100.0</td>\n",
              "      <td>25.0</td>\n",
              "      <td>4.0</td>\n",
              "      <td>66.0</td>\n",
              "      <td>Beginner Level</td>\n",
              "      <td>0.67</td>\n",
              "      <td>12.5</td>\n",
              "      <td>2017-06-15T21:17:43Z</td>\n",
              "      <td>Subject: Web Development</td>\n",
              "    </tr>\n",
              "    <tr>\n",
              "      <th>3680</th>\n",
              "      <td>3680</td>\n",
              "      <td>1270222.0</td>\n",
              "      <td>learning path: web applications with spring an...</td>\n",
              "      <td>https://www.udemy.com/learning-path-web-applic...</td>\n",
              "      <td>200.0</td>\n",
              "      <td>19.0</td>\n",
              "      <td>2.0</td>\n",
              "      <td>33.0</td>\n",
              "      <td>Beginner Level</td>\n",
              "      <td>0.12</td>\n",
              "      <td>4.0</td>\n",
              "      <td>2017-06-28T21:04:21Z</td>\n",
              "      <td>Subject: Web Development</td>\n",
              "    </tr>\n",
              "  </tbody>\n",
              "</table>\n",
              "<p>3681 rows × 13 columns</p>\n",
              "</div>\n",
              "      <button class=\"colab-df-convert\" onclick=\"convertToInteractive('df-106e402d-44d3-423e-ba5d-7119dd63c686')\"\n",
              "              title=\"Convert this dataframe to an interactive table.\"\n",
              "              style=\"display:none;\">\n",
              "        \n",
              "  <svg xmlns=\"http://www.w3.org/2000/svg\" height=\"24px\"viewBox=\"0 0 24 24\"\n",
              "       width=\"24px\">\n",
              "    <path d=\"M0 0h24v24H0V0z\" fill=\"none\"/>\n",
              "    <path d=\"M18.56 5.44l.94 2.06.94-2.06 2.06-.94-2.06-.94-.94-2.06-.94 2.06-2.06.94zm-11 1L8.5 8.5l.94-2.06 2.06-.94-2.06-.94L8.5 2.5l-.94 2.06-2.06.94zm10 10l.94 2.06.94-2.06 2.06-.94-2.06-.94-.94-2.06-.94 2.06-2.06.94z\"/><path d=\"M17.41 7.96l-1.37-1.37c-.4-.4-.92-.59-1.43-.59-.52 0-1.04.2-1.43.59L10.3 9.45l-7.72 7.72c-.78.78-.78 2.05 0 2.83L4 21.41c.39.39.9.59 1.41.59.51 0 1.02-.2 1.41-.59l7.78-7.78 2.81-2.81c.8-.78.8-2.07 0-2.86zM5.41 20L4 18.59l7.72-7.72 1.47 1.35L5.41 20z\"/>\n",
              "  </svg>\n",
              "      </button>\n",
              "      \n",
              "  <style>\n",
              "    .colab-df-container {\n",
              "      display:flex;\n",
              "      flex-wrap:wrap;\n",
              "      gap: 12px;\n",
              "    }\n",
              "\n",
              "    .colab-df-convert {\n",
              "      background-color: #E8F0FE;\n",
              "      border: none;\n",
              "      border-radius: 50%;\n",
              "      cursor: pointer;\n",
              "      display: none;\n",
              "      fill: #1967D2;\n",
              "      height: 32px;\n",
              "      padding: 0 0 0 0;\n",
              "      width: 32px;\n",
              "    }\n",
              "\n",
              "    .colab-df-convert:hover {\n",
              "      background-color: #E2EBFA;\n",
              "      box-shadow: 0px 1px 2px rgba(60, 64, 67, 0.3), 0px 1px 3px 1px rgba(60, 64, 67, 0.15);\n",
              "      fill: #174EA6;\n",
              "    }\n",
              "\n",
              "    [theme=dark] .colab-df-convert {\n",
              "      background-color: #3B4455;\n",
              "      fill: #D2E3FC;\n",
              "    }\n",
              "\n",
              "    [theme=dark] .colab-df-convert:hover {\n",
              "      background-color: #434B5C;\n",
              "      box-shadow: 0px 1px 3px 1px rgba(0, 0, 0, 0.15);\n",
              "      filter: drop-shadow(0px 1px 2px rgba(0, 0, 0, 0.3));\n",
              "      fill: #FFFFFF;\n",
              "    }\n",
              "  </style>\n",
              "\n",
              "      <script>\n",
              "        const buttonEl =\n",
              "          document.querySelector('#df-106e402d-44d3-423e-ba5d-7119dd63c686 button.colab-df-convert');\n",
              "        buttonEl.style.display =\n",
              "          google.colab.kernel.accessAllowed ? 'block' : 'none';\n",
              "\n",
              "        async function convertToInteractive(key) {\n",
              "          const element = document.querySelector('#df-106e402d-44d3-423e-ba5d-7119dd63c686');\n",
              "          const dataTable =\n",
              "            await google.colab.kernel.invokeFunction('convertToInteractive',\n",
              "                                                     [key], {});\n",
              "          if (!dataTable) return;\n",
              "\n",
              "          const docLinkHtml = 'Like what you see? Visit the ' +\n",
              "            '<a target=\"_blank\" href=https://colab.research.google.com/notebooks/data_table.ipynb>data table notebook</a>'\n",
              "            + ' to learn more about interactive tables.';\n",
              "          element.innerHTML = '';\n",
              "          dataTable['output_type'] = 'display_data';\n",
              "          await google.colab.output.renderOutput(dataTable, element);\n",
              "          const docLink = document.createElement('div');\n",
              "          docLink.innerHTML = docLinkHtml;\n",
              "          element.appendChild(docLink);\n",
              "        }\n",
              "      </script>\n",
              "    </div>\n",
              "  </div>\n",
              "  "
            ]
          },
          "metadata": {},
          "execution_count": 29
        }
      ]
    },
    {
      "cell_type": "code",
      "source": [
        "cursos.columns"
      ],
      "metadata": {
        "colab": {
          "base_uri": "https://localhost:8080/"
        },
        "id": "JPtWVvN8pe39",
        "outputId": "36fbe24c-73c9-4489-be4a-3100c9d8b2a7"
      },
      "execution_count": null,
      "outputs": [
        {
          "output_type": "execute_result",
          "data": {
            "text/plain": [
              "Index(['Unnamed: 0', 'course_id', 'course_title', 'url', 'price',\n",
              "       'num_subscribers', 'num_reviews', 'num_lectures', 'level', 'Rating',\n",
              "       'content_duration', 'published_timestamp', 'subject'],\n",
              "      dtype='object')"
            ]
          },
          "metadata": {},
          "execution_count": 6
        }
      ]
    },
    {
      "cell_type": "code",
      "source": [
        "cursos.info()"
      ],
      "metadata": {
        "colab": {
          "base_uri": "https://localhost:8080/"
        },
        "id": "rabG1WEvghRc",
        "outputId": "64fa1f0b-c669-4744-ebb5-21cc36526e87"
      },
      "execution_count": null,
      "outputs": [
        {
          "output_type": "stream",
          "name": "stdout",
          "text": [
            "<class 'pandas.core.frame.DataFrame'>\n",
            "RangeIndex: 3681 entries, 0 to 3680\n",
            "Data columns (total 13 columns):\n",
            " #   Column               Non-Null Count  Dtype  \n",
            "---  ------               --------------  -----  \n",
            " 0   Unnamed: 0           3681 non-null   int64  \n",
            " 1   course_id            3676 non-null   float64\n",
            " 2   course_title         3676 non-null   object \n",
            " 3   url                  3676 non-null   object \n",
            " 4   price                3676 non-null   float64\n",
            " 5   num_subscribers      3676 non-null   float64\n",
            " 6   num_reviews          3676 non-null   float64\n",
            " 7   num_lectures         3676 non-null   float64\n",
            " 8   level                3676 non-null   object \n",
            " 9   Rating               3677 non-null   float64\n",
            " 10  content_duration     3676 non-null   float64\n",
            " 11  published_timestamp  3676 non-null   object \n",
            " 12  subject              3677 non-null   object \n",
            "dtypes: float64(7), int64(1), object(5)\n",
            "memory usage: 374.0+ KB\n"
          ]
        }
      ]
    },
    {
      "cell_type": "code",
      "source": [
        "len(cursos['course_title'])"
      ],
      "metadata": {
        "colab": {
          "base_uri": "https://localhost:8080/"
        },
        "id": "4Tik8dTeigeH",
        "outputId": "5a329332-171b-413a-81e7-ece0739cc5f5"
      },
      "execution_count": null,
      "outputs": [
        {
          "output_type": "execute_result",
          "data": {
            "text/plain": [
              "3681"
            ]
          },
          "metadata": {},
          "execution_count": 8
        }
      ]
    },
    {
      "cell_type": "markdown",
      "source": [
        "2. Quais e quantos são os cursos que abordam o assunto: JavaScript?"
      ],
      "metadata": {
        "id": "eFKSLDeyoQCF"
      }
    },
    {
      "cell_type": "code",
      "source": [
        "cursos[\"course_title\"]= cursos[\"course_title\"].str.lower()\n"
      ],
      "metadata": {
        "id": "E1Gt9kN-uWoQ"
      },
      "execution_count": null,
      "outputs": []
    },
    {
      "cell_type": "code",
      "source": [
        "cursos"
      ],
      "metadata": {
        "colab": {
          "base_uri": "https://localhost:8080/",
          "height": 956
        },
        "id": "GoOvyX6Dt3cZ",
        "outputId": "f8a7f50b-a5ea-44b8-a1b6-49e8531e9aef"
      },
      "execution_count": null,
      "outputs": [
        {
          "output_type": "execute_result",
          "data": {
            "text/plain": [
              "      Unnamed: 0  course_id  \\\n",
              "0              0    49798.0   \n",
              "1              1    48841.0   \n",
              "2              2   133536.0   \n",
              "3              3   151668.0   \n",
              "4              4   648826.0   \n",
              "...          ...        ...   \n",
              "3676        3676  1227578.0   \n",
              "3677        3677  1277924.0   \n",
              "3678        3678  1248172.0   \n",
              "3679        3679  1250934.0   \n",
              "3680        3680  1270222.0   \n",
              "\n",
              "                                           course_title  \\\n",
              "0     bitcoin or how i learned to stop worrying and ...   \n",
              "1       accounting in 60 minutes - a brief introduction   \n",
              "2                  stock market investing for beginners   \n",
              "3                    introduction to financial modeling   \n",
              "4            the complete financial analyst course 2017   \n",
              "...                                                 ...   \n",
              "3676           learning path: the road to elasticsearch   \n",
              "3677                            angular 4 front to back   \n",
              "3678            essentials of spring 5.0 for developers   \n",
              "3679  display and analyze gis data on the web with l...   \n",
              "3680  learning path: web applications with spring an...   \n",
              "\n",
              "                                                    url  price  \\\n",
              "0     https://www.udemy.com/bitcoin-or-how-i-learned...    0.0   \n",
              "1     https://www.udemy.com/accounting-in-60-minutes...    0.0   \n",
              "2     https://www.udemy.com/the-beginners-guide-to-t...    0.0   \n",
              "3     https://www.udemy.com/financial-modeling-asimp...    0.0   \n",
              "4     https://www.udemy.com/the-complete-financial-a...  195.0   \n",
              "...                                                 ...    ...   \n",
              "3676  https://www.udemy.com/learning-path-the-road-t...  200.0   \n",
              "3677     https://www.udemy.com/angular-4-front-to-back/   40.0   \n",
              "3678  https://www.udemy.com/essentials-of-spring-50-...  125.0   \n",
              "3679  https://www.udemy.com/display-and-analyze-gis-...  100.0   \n",
              "3680  https://www.udemy.com/learning-path-web-applic...  200.0   \n",
              "\n",
              "      num_subscribers  num_reviews  num_lectures           level  Rating  \\\n",
              "0             65576.0        936.0          24.0      All Levels    0.56   \n",
              "1             56659.0       4397.0          16.0  Beginner Level    0.95   \n",
              "2             50855.0       2698.0          15.0      All Levels    0.91   \n",
              "3             29167.0       1463.0           8.0      All Levels    0.18   \n",
              "4             24481.0       2347.0         174.0      All Levels    0.37   \n",
              "...               ...          ...           ...             ...     ...   \n",
              "3676             50.0          5.0          60.0  Beginner Level    0.96   \n",
              "3677             44.0          0.0          68.0      All Levels    0.15   \n",
              "3678             34.0          2.0          21.0  Beginner Level    0.46   \n",
              "3679             25.0          4.0          66.0  Beginner Level    0.67   \n",
              "3680             19.0          2.0          33.0  Beginner Level    0.12   \n",
              "\n",
              "      content_duration   published_timestamp                   subject  \n",
              "0                  8.0  2013-04-20T02:25:22Z          Business Finance  \n",
              "1                  1.5  2013-04-07T21:39:25Z          Business Finance  \n",
              "2                  1.5  2013-12-25T19:53:34Z          Business Finance  \n",
              "3                  1.5  2014-05-27T16:22:16Z          Business Finance  \n",
              "4                 10.0  2016-01-21T01:38:48Z          Business Finance  \n",
              "...                ...                   ...                       ...  \n",
              "3676               5.0  2017-05-29T17:56:24Z  Subject: Web Development  \n",
              "3677               8.5  2017-07-06T15:04:55Z  Subject: Web Development  \n",
              "3678               1.5  2017-06-11T18:34:40Z  Subject: Web Development  \n",
              "3679              12.5  2017-06-15T21:17:43Z  Subject: Web Development  \n",
              "3680               4.0  2017-06-28T21:04:21Z  Subject: Web Development  \n",
              "\n",
              "[3681 rows x 13 columns]"
            ],
            "text/html": [
              "\n",
              "  <div id=\"df-be799f67-77f0-4748-932f-ff6cd220d24e\">\n",
              "    <div class=\"colab-df-container\">\n",
              "      <div>\n",
              "<style scoped>\n",
              "    .dataframe tbody tr th:only-of-type {\n",
              "        vertical-align: middle;\n",
              "    }\n",
              "\n",
              "    .dataframe tbody tr th {\n",
              "        vertical-align: top;\n",
              "    }\n",
              "\n",
              "    .dataframe thead th {\n",
              "        text-align: right;\n",
              "    }\n",
              "</style>\n",
              "<table border=\"1\" class=\"dataframe\">\n",
              "  <thead>\n",
              "    <tr style=\"text-align: right;\">\n",
              "      <th></th>\n",
              "      <th>Unnamed: 0</th>\n",
              "      <th>course_id</th>\n",
              "      <th>course_title</th>\n",
              "      <th>url</th>\n",
              "      <th>price</th>\n",
              "      <th>num_subscribers</th>\n",
              "      <th>num_reviews</th>\n",
              "      <th>num_lectures</th>\n",
              "      <th>level</th>\n",
              "      <th>Rating</th>\n",
              "      <th>content_duration</th>\n",
              "      <th>published_timestamp</th>\n",
              "      <th>subject</th>\n",
              "    </tr>\n",
              "  </thead>\n",
              "  <tbody>\n",
              "    <tr>\n",
              "      <th>0</th>\n",
              "      <td>0</td>\n",
              "      <td>49798.0</td>\n",
              "      <td>bitcoin or how i learned to stop worrying and ...</td>\n",
              "      <td>https://www.udemy.com/bitcoin-or-how-i-learned...</td>\n",
              "      <td>0.0</td>\n",
              "      <td>65576.0</td>\n",
              "      <td>936.0</td>\n",
              "      <td>24.0</td>\n",
              "      <td>All Levels</td>\n",
              "      <td>0.56</td>\n",
              "      <td>8.0</td>\n",
              "      <td>2013-04-20T02:25:22Z</td>\n",
              "      <td>Business Finance</td>\n",
              "    </tr>\n",
              "    <tr>\n",
              "      <th>1</th>\n",
              "      <td>1</td>\n",
              "      <td>48841.0</td>\n",
              "      <td>accounting in 60 minutes - a brief introduction</td>\n",
              "      <td>https://www.udemy.com/accounting-in-60-minutes...</td>\n",
              "      <td>0.0</td>\n",
              "      <td>56659.0</td>\n",
              "      <td>4397.0</td>\n",
              "      <td>16.0</td>\n",
              "      <td>Beginner Level</td>\n",
              "      <td>0.95</td>\n",
              "      <td>1.5</td>\n",
              "      <td>2013-04-07T21:39:25Z</td>\n",
              "      <td>Business Finance</td>\n",
              "    </tr>\n",
              "    <tr>\n",
              "      <th>2</th>\n",
              "      <td>2</td>\n",
              "      <td>133536.0</td>\n",
              "      <td>stock market investing for beginners</td>\n",
              "      <td>https://www.udemy.com/the-beginners-guide-to-t...</td>\n",
              "      <td>0.0</td>\n",
              "      <td>50855.0</td>\n",
              "      <td>2698.0</td>\n",
              "      <td>15.0</td>\n",
              "      <td>All Levels</td>\n",
              "      <td>0.91</td>\n",
              "      <td>1.5</td>\n",
              "      <td>2013-12-25T19:53:34Z</td>\n",
              "      <td>Business Finance</td>\n",
              "    </tr>\n",
              "    <tr>\n",
              "      <th>3</th>\n",
              "      <td>3</td>\n",
              "      <td>151668.0</td>\n",
              "      <td>introduction to financial modeling</td>\n",
              "      <td>https://www.udemy.com/financial-modeling-asimp...</td>\n",
              "      <td>0.0</td>\n",
              "      <td>29167.0</td>\n",
              "      <td>1463.0</td>\n",
              "      <td>8.0</td>\n",
              "      <td>All Levels</td>\n",
              "      <td>0.18</td>\n",
              "      <td>1.5</td>\n",
              "      <td>2014-05-27T16:22:16Z</td>\n",
              "      <td>Business Finance</td>\n",
              "    </tr>\n",
              "    <tr>\n",
              "      <th>4</th>\n",
              "      <td>4</td>\n",
              "      <td>648826.0</td>\n",
              "      <td>the complete financial analyst course 2017</td>\n",
              "      <td>https://www.udemy.com/the-complete-financial-a...</td>\n",
              "      <td>195.0</td>\n",
              "      <td>24481.0</td>\n",
              "      <td>2347.0</td>\n",
              "      <td>174.0</td>\n",
              "      <td>All Levels</td>\n",
              "      <td>0.37</td>\n",
              "      <td>10.0</td>\n",
              "      <td>2016-01-21T01:38:48Z</td>\n",
              "      <td>Business Finance</td>\n",
              "    </tr>\n",
              "    <tr>\n",
              "      <th>...</th>\n",
              "      <td>...</td>\n",
              "      <td>...</td>\n",
              "      <td>...</td>\n",
              "      <td>...</td>\n",
              "      <td>...</td>\n",
              "      <td>...</td>\n",
              "      <td>...</td>\n",
              "      <td>...</td>\n",
              "      <td>...</td>\n",
              "      <td>...</td>\n",
              "      <td>...</td>\n",
              "      <td>...</td>\n",
              "      <td>...</td>\n",
              "    </tr>\n",
              "    <tr>\n",
              "      <th>3676</th>\n",
              "      <td>3676</td>\n",
              "      <td>1227578.0</td>\n",
              "      <td>learning path: the road to elasticsearch</td>\n",
              "      <td>https://www.udemy.com/learning-path-the-road-t...</td>\n",
              "      <td>200.0</td>\n",
              "      <td>50.0</td>\n",
              "      <td>5.0</td>\n",
              "      <td>60.0</td>\n",
              "      <td>Beginner Level</td>\n",
              "      <td>0.96</td>\n",
              "      <td>5.0</td>\n",
              "      <td>2017-05-29T17:56:24Z</td>\n",
              "      <td>Subject: Web Development</td>\n",
              "    </tr>\n",
              "    <tr>\n",
              "      <th>3677</th>\n",
              "      <td>3677</td>\n",
              "      <td>1277924.0</td>\n",
              "      <td>angular 4 front to back</td>\n",
              "      <td>https://www.udemy.com/angular-4-front-to-back/</td>\n",
              "      <td>40.0</td>\n",
              "      <td>44.0</td>\n",
              "      <td>0.0</td>\n",
              "      <td>68.0</td>\n",
              "      <td>All Levels</td>\n",
              "      <td>0.15</td>\n",
              "      <td>8.5</td>\n",
              "      <td>2017-07-06T15:04:55Z</td>\n",
              "      <td>Subject: Web Development</td>\n",
              "    </tr>\n",
              "    <tr>\n",
              "      <th>3678</th>\n",
              "      <td>3678</td>\n",
              "      <td>1248172.0</td>\n",
              "      <td>essentials of spring 5.0 for developers</td>\n",
              "      <td>https://www.udemy.com/essentials-of-spring-50-...</td>\n",
              "      <td>125.0</td>\n",
              "      <td>34.0</td>\n",
              "      <td>2.0</td>\n",
              "      <td>21.0</td>\n",
              "      <td>Beginner Level</td>\n",
              "      <td>0.46</td>\n",
              "      <td>1.5</td>\n",
              "      <td>2017-06-11T18:34:40Z</td>\n",
              "      <td>Subject: Web Development</td>\n",
              "    </tr>\n",
              "    <tr>\n",
              "      <th>3679</th>\n",
              "      <td>3679</td>\n",
              "      <td>1250934.0</td>\n",
              "      <td>display and analyze gis data on the web with l...</td>\n",
              "      <td>https://www.udemy.com/display-and-analyze-gis-...</td>\n",
              "      <td>100.0</td>\n",
              "      <td>25.0</td>\n",
              "      <td>4.0</td>\n",
              "      <td>66.0</td>\n",
              "      <td>Beginner Level</td>\n",
              "      <td>0.67</td>\n",
              "      <td>12.5</td>\n",
              "      <td>2017-06-15T21:17:43Z</td>\n",
              "      <td>Subject: Web Development</td>\n",
              "    </tr>\n",
              "    <tr>\n",
              "      <th>3680</th>\n",
              "      <td>3680</td>\n",
              "      <td>1270222.0</td>\n",
              "      <td>learning path: web applications with spring an...</td>\n",
              "      <td>https://www.udemy.com/learning-path-web-applic...</td>\n",
              "      <td>200.0</td>\n",
              "      <td>19.0</td>\n",
              "      <td>2.0</td>\n",
              "      <td>33.0</td>\n",
              "      <td>Beginner Level</td>\n",
              "      <td>0.12</td>\n",
              "      <td>4.0</td>\n",
              "      <td>2017-06-28T21:04:21Z</td>\n",
              "      <td>Subject: Web Development</td>\n",
              "    </tr>\n",
              "  </tbody>\n",
              "</table>\n",
              "<p>3681 rows × 13 columns</p>\n",
              "</div>\n",
              "      <button class=\"colab-df-convert\" onclick=\"convertToInteractive('df-be799f67-77f0-4748-932f-ff6cd220d24e')\"\n",
              "              title=\"Convert this dataframe to an interactive table.\"\n",
              "              style=\"display:none;\">\n",
              "        \n",
              "  <svg xmlns=\"http://www.w3.org/2000/svg\" height=\"24px\"viewBox=\"0 0 24 24\"\n",
              "       width=\"24px\">\n",
              "    <path d=\"M0 0h24v24H0V0z\" fill=\"none\"/>\n",
              "    <path d=\"M18.56 5.44l.94 2.06.94-2.06 2.06-.94-2.06-.94-.94-2.06-.94 2.06-2.06.94zm-11 1L8.5 8.5l.94-2.06 2.06-.94-2.06-.94L8.5 2.5l-.94 2.06-2.06.94zm10 10l.94 2.06.94-2.06 2.06-.94-2.06-.94-.94-2.06-.94 2.06-2.06.94z\"/><path d=\"M17.41 7.96l-1.37-1.37c-.4-.4-.92-.59-1.43-.59-.52 0-1.04.2-1.43.59L10.3 9.45l-7.72 7.72c-.78.78-.78 2.05 0 2.83L4 21.41c.39.39.9.59 1.41.59.51 0 1.02-.2 1.41-.59l7.78-7.78 2.81-2.81c.8-.78.8-2.07 0-2.86zM5.41 20L4 18.59l7.72-7.72 1.47 1.35L5.41 20z\"/>\n",
              "  </svg>\n",
              "      </button>\n",
              "      \n",
              "  <style>\n",
              "    .colab-df-container {\n",
              "      display:flex;\n",
              "      flex-wrap:wrap;\n",
              "      gap: 12px;\n",
              "    }\n",
              "\n",
              "    .colab-df-convert {\n",
              "      background-color: #E8F0FE;\n",
              "      border: none;\n",
              "      border-radius: 50%;\n",
              "      cursor: pointer;\n",
              "      display: none;\n",
              "      fill: #1967D2;\n",
              "      height: 32px;\n",
              "      padding: 0 0 0 0;\n",
              "      width: 32px;\n",
              "    }\n",
              "\n",
              "    .colab-df-convert:hover {\n",
              "      background-color: #E2EBFA;\n",
              "      box-shadow: 0px 1px 2px rgba(60, 64, 67, 0.3), 0px 1px 3px 1px rgba(60, 64, 67, 0.15);\n",
              "      fill: #174EA6;\n",
              "    }\n",
              "\n",
              "    [theme=dark] .colab-df-convert {\n",
              "      background-color: #3B4455;\n",
              "      fill: #D2E3FC;\n",
              "    }\n",
              "\n",
              "    [theme=dark] .colab-df-convert:hover {\n",
              "      background-color: #434B5C;\n",
              "      box-shadow: 0px 1px 3px 1px rgba(0, 0, 0, 0.15);\n",
              "      filter: drop-shadow(0px 1px 2px rgba(0, 0, 0, 0.3));\n",
              "      fill: #FFFFFF;\n",
              "    }\n",
              "  </style>\n",
              "\n",
              "      <script>\n",
              "        const buttonEl =\n",
              "          document.querySelector('#df-be799f67-77f0-4748-932f-ff6cd220d24e button.colab-df-convert');\n",
              "        buttonEl.style.display =\n",
              "          google.colab.kernel.accessAllowed ? 'block' : 'none';\n",
              "\n",
              "        async function convertToInteractive(key) {\n",
              "          const element = document.querySelector('#df-be799f67-77f0-4748-932f-ff6cd220d24e');\n",
              "          const dataTable =\n",
              "            await google.colab.kernel.invokeFunction('convertToInteractive',\n",
              "                                                     [key], {});\n",
              "          if (!dataTable) return;\n",
              "\n",
              "          const docLinkHtml = 'Like what you see? Visit the ' +\n",
              "            '<a target=\"_blank\" href=https://colab.research.google.com/notebooks/data_table.ipynb>data table notebook</a>'\n",
              "            + ' to learn more about interactive tables.';\n",
              "          element.innerHTML = '';\n",
              "          dataTable['output_type'] = 'display_data';\n",
              "          await google.colab.output.renderOutput(dataTable, element);\n",
              "          const docLink = document.createElement('div');\n",
              "          docLink.innerHTML = docLinkHtml;\n",
              "          element.appendChild(docLink);\n",
              "        }\n",
              "      </script>\n",
              "    </div>\n",
              "  </div>\n",
              "  "
            ]
          },
          "metadata": {},
          "execution_count": 14
        }
      ]
    },
    {
      "cell_type": "code",
      "source": [
        "cursos.fillna({\"course_title\": \"vazio\"}, inplace=True)"
      ],
      "metadata": {
        "id": "wDqdSDt2tir4"
      },
      "execution_count": null,
      "outputs": []
    },
    {
      "cell_type": "code",
      "source": [],
      "metadata": {
        "id": "GEZr6Tn8wt7F"
      },
      "execution_count": null,
      "outputs": []
    },
    {
      "cell_type": "code",
      "source": [
        "cursos[cursos[\"course_title\"].str.contains(\"javascript\")].shape[0]"
      ],
      "metadata": {
        "colab": {
          "base_uri": "https://localhost:8080/"
        },
        "id": "IWFLW4IF3pSC",
        "outputId": "e297b3dd-76d2-4d76-ef29-ed80730a0f55"
      },
      "execution_count": null,
      "outputs": [
        {
          "output_type": "execute_result",
          "data": {
            "text/plain": [
              "137"
            ]
          },
          "metadata": {},
          "execution_count": 28
        }
      ]
    },
    {
      "cell_type": "code",
      "source": [
        "cursos[\"course_title\"].str.contains(\"javascript\")"
      ],
      "metadata": {
        "colab": {
          "base_uri": "https://localhost:8080/"
        },
        "id": "IYsaZ3vxyMAT",
        "outputId": "7e918660-afb6-4ff8-d106-3a7cbfbd0235"
      },
      "execution_count": null,
      "outputs": [
        {
          "output_type": "execute_result",
          "data": {
            "text/plain": [
              "0       False\n",
              "1       False\n",
              "2       False\n",
              "3       False\n",
              "4       False\n",
              "        ...  \n",
              "3676    False\n",
              "3677    False\n",
              "3678    False\n",
              "3679    False\n",
              "3680    False\n",
              "Name: course_title, Length: 3681, dtype: object"
            ]
          },
          "metadata": {},
          "execution_count": 26
        }
      ]
    },
    {
      "cell_type": "markdown",
      "source": [
        "3. Qual é o preço médio (coluna *price*) dos cursos oferecidos na plataforma?"
      ],
      "metadata": {
        "id": "G4cUox4RooOk"
      }
    },
    {
      "cell_type": "code",
      "source": [
        "cursos['price'].mean()"
      ],
      "metadata": {
        "id": "FKOIIjcVo3xg",
        "colab": {
          "base_uri": "https://localhost:8080/"
        },
        "outputId": "6f5c36fe-5578-45ae-f441-284220799c14"
      },
      "execution_count": null,
      "outputs": [
        {
          "output_type": "execute_result",
          "data": {
            "text/plain": [
              "66.11534276387377"
            ]
          },
          "metadata": {},
          "execution_count": 11
        }
      ]
    },
    {
      "cell_type": "code",
      "source": [
        "round(cursos[\"price\"].mean(), 2)"
      ],
      "metadata": {
        "id": "dVJFV7OZK4l7",
        "outputId": "46ec7956-ac94-4132-db6b-f3adde3121d6",
        "colab": {
          "base_uri": "https://localhost:8080/"
        }
      },
      "execution_count": null,
      "outputs": [
        {
          "output_type": "execute_result",
          "data": {
            "text/plain": [
              "66.12"
            ]
          },
          "metadata": {},
          "execution_count": 12
        }
      ]
    },
    {
      "cell_type": "code",
      "source": [
        "cursos['price'].mean().round(2)"
      ],
      "metadata": {
        "colab": {
          "base_uri": "https://localhost:8080/"
        },
        "id": "S0FtDS_45qR9",
        "outputId": "76be5c41-d449-41a8-83d3-e05fb6eb832e"
      },
      "execution_count": null,
      "outputs": [
        {
          "output_type": "execute_result",
          "data": {
            "text/plain": [
              "66.12"
            ]
          },
          "metadata": {},
          "execution_count": 30
        }
      ]
    },
    {
      "cell_type": "code",
      "source": [
        "cursos[\"price\"].describe()"
      ],
      "metadata": {
        "colab": {
          "base_uri": "https://localhost:8080/"
        },
        "id": "Savg2hWFrCtD",
        "outputId": "203e5642-3236-4b73-86f2-2b9d3971397a"
      },
      "execution_count": null,
      "outputs": [
        {
          "output_type": "execute_result",
          "data": {
            "text/plain": [
              "count    3676.000000\n",
              "mean       66.115343\n",
              "std        61.056073\n",
              "min         0.000000\n",
              "25%        20.000000\n",
              "50%        45.000000\n",
              "75%        95.000000\n",
              "max       200.000000\n",
              "Name: price, dtype: float64"
            ]
          },
          "metadata": {},
          "execution_count": 14
        }
      ]
    },
    {
      "cell_type": "markdown",
      "source": [
        "4. Quais são os cinco cursos com maior número de inscritos (coluna *num_subscribers*)?"
      ],
      "metadata": {
        "id": "e-zGn_o0o2go"
      }
    },
    {
      "cell_type": "code",
      "source": [
        "cursos['num_subscribers']"
      ],
      "metadata": {
        "id": "ewd5ZmqcpFND",
        "colab": {
          "base_uri": "https://localhost:8080/"
        },
        "outputId": "20239864-15c6-4c5d-ce6c-342dff657e13"
      },
      "execution_count": null,
      "outputs": [
        {
          "output_type": "execute_result",
          "data": {
            "text/plain": [
              "0       65576.0\n",
              "1       56659.0\n",
              "2       50855.0\n",
              "3       29167.0\n",
              "4       24481.0\n",
              "         ...   \n",
              "3676       50.0\n",
              "3677       44.0\n",
              "3678       34.0\n",
              "3679       25.0\n",
              "3680       19.0\n",
              "Name: num_subscribers, Length: 3681, dtype: float64"
            ]
          },
          "metadata": {},
          "execution_count": 37
        }
      ]
    },
    {
      "cell_type": "code",
      "source": [
        "cursos.sort_values(\"num_subscribers\", ascending=False).head(5)[[\"course_title\", \"num_subscribers\"]]"
      ],
      "metadata": {
        "colab": {
          "base_uri": "https://localhost:8080/",
          "height": 206
        },
        "id": "D3tJQKvH7VZc",
        "outputId": "e20dcd18-5069-477d-a5a1-eec8ffa6780a"
      },
      "execution_count": null,
      "outputs": [
        {
          "output_type": "execute_result",
          "data": {
            "text/plain": [
              "                                           course_title  num_subscribers\n",
              "2476               learn html5 programming from scratch         268923.0\n",
              "2477                     coding for entrepreneurs basic         161029.0\n",
              "2478                         the web developer bootcamp         121584.0\n",
              "2479  build your first website in 1 week with html5 ...         120291.0\n",
              "2480              the complete web developer course 2.0         114512.0"
            ],
            "text/html": [
              "\n",
              "  <div id=\"df-592d2593-bd8a-4e2c-b129-e168900934f7\">\n",
              "    <div class=\"colab-df-container\">\n",
              "      <div>\n",
              "<style scoped>\n",
              "    .dataframe tbody tr th:only-of-type {\n",
              "        vertical-align: middle;\n",
              "    }\n",
              "\n",
              "    .dataframe tbody tr th {\n",
              "        vertical-align: top;\n",
              "    }\n",
              "\n",
              "    .dataframe thead th {\n",
              "        text-align: right;\n",
              "    }\n",
              "</style>\n",
              "<table border=\"1\" class=\"dataframe\">\n",
              "  <thead>\n",
              "    <tr style=\"text-align: right;\">\n",
              "      <th></th>\n",
              "      <th>course_title</th>\n",
              "      <th>num_subscribers</th>\n",
              "    </tr>\n",
              "  </thead>\n",
              "  <tbody>\n",
              "    <tr>\n",
              "      <th>2476</th>\n",
              "      <td>learn html5 programming from scratch</td>\n",
              "      <td>268923.0</td>\n",
              "    </tr>\n",
              "    <tr>\n",
              "      <th>2477</th>\n",
              "      <td>coding for entrepreneurs basic</td>\n",
              "      <td>161029.0</td>\n",
              "    </tr>\n",
              "    <tr>\n",
              "      <th>2478</th>\n",
              "      <td>the web developer bootcamp</td>\n",
              "      <td>121584.0</td>\n",
              "    </tr>\n",
              "    <tr>\n",
              "      <th>2479</th>\n",
              "      <td>build your first website in 1 week with html5 ...</td>\n",
              "      <td>120291.0</td>\n",
              "    </tr>\n",
              "    <tr>\n",
              "      <th>2480</th>\n",
              "      <td>the complete web developer course 2.0</td>\n",
              "      <td>114512.0</td>\n",
              "    </tr>\n",
              "  </tbody>\n",
              "</table>\n",
              "</div>\n",
              "      <button class=\"colab-df-convert\" onclick=\"convertToInteractive('df-592d2593-bd8a-4e2c-b129-e168900934f7')\"\n",
              "              title=\"Convert this dataframe to an interactive table.\"\n",
              "              style=\"display:none;\">\n",
              "        \n",
              "  <svg xmlns=\"http://www.w3.org/2000/svg\" height=\"24px\"viewBox=\"0 0 24 24\"\n",
              "       width=\"24px\">\n",
              "    <path d=\"M0 0h24v24H0V0z\" fill=\"none\"/>\n",
              "    <path d=\"M18.56 5.44l.94 2.06.94-2.06 2.06-.94-2.06-.94-.94-2.06-.94 2.06-2.06.94zm-11 1L8.5 8.5l.94-2.06 2.06-.94-2.06-.94L8.5 2.5l-.94 2.06-2.06.94zm10 10l.94 2.06.94-2.06 2.06-.94-2.06-.94-.94-2.06-.94 2.06-2.06.94z\"/><path d=\"M17.41 7.96l-1.37-1.37c-.4-.4-.92-.59-1.43-.59-.52 0-1.04.2-1.43.59L10.3 9.45l-7.72 7.72c-.78.78-.78 2.05 0 2.83L4 21.41c.39.39.9.59 1.41.59.51 0 1.02-.2 1.41-.59l7.78-7.78 2.81-2.81c.8-.78.8-2.07 0-2.86zM5.41 20L4 18.59l7.72-7.72 1.47 1.35L5.41 20z\"/>\n",
              "  </svg>\n",
              "      </button>\n",
              "      \n",
              "  <style>\n",
              "    .colab-df-container {\n",
              "      display:flex;\n",
              "      flex-wrap:wrap;\n",
              "      gap: 12px;\n",
              "    }\n",
              "\n",
              "    .colab-df-convert {\n",
              "      background-color: #E8F0FE;\n",
              "      border: none;\n",
              "      border-radius: 50%;\n",
              "      cursor: pointer;\n",
              "      display: none;\n",
              "      fill: #1967D2;\n",
              "      height: 32px;\n",
              "      padding: 0 0 0 0;\n",
              "      width: 32px;\n",
              "    }\n",
              "\n",
              "    .colab-df-convert:hover {\n",
              "      background-color: #E2EBFA;\n",
              "      box-shadow: 0px 1px 2px rgba(60, 64, 67, 0.3), 0px 1px 3px 1px rgba(60, 64, 67, 0.15);\n",
              "      fill: #174EA6;\n",
              "    }\n",
              "\n",
              "    [theme=dark] .colab-df-convert {\n",
              "      background-color: #3B4455;\n",
              "      fill: #D2E3FC;\n",
              "    }\n",
              "\n",
              "    [theme=dark] .colab-df-convert:hover {\n",
              "      background-color: #434B5C;\n",
              "      box-shadow: 0px 1px 3px 1px rgba(0, 0, 0, 0.15);\n",
              "      filter: drop-shadow(0px 1px 2px rgba(0, 0, 0, 0.3));\n",
              "      fill: #FFFFFF;\n",
              "    }\n",
              "  </style>\n",
              "\n",
              "      <script>\n",
              "        const buttonEl =\n",
              "          document.querySelector('#df-592d2593-bd8a-4e2c-b129-e168900934f7 button.colab-df-convert');\n",
              "        buttonEl.style.display =\n",
              "          google.colab.kernel.accessAllowed ? 'block' : 'none';\n",
              "\n",
              "        async function convertToInteractive(key) {\n",
              "          const element = document.querySelector('#df-592d2593-bd8a-4e2c-b129-e168900934f7');\n",
              "          const dataTable =\n",
              "            await google.colab.kernel.invokeFunction('convertToInteractive',\n",
              "                                                     [key], {});\n",
              "          if (!dataTable) return;\n",
              "\n",
              "          const docLinkHtml = 'Like what you see? Visit the ' +\n",
              "            '<a target=\"_blank\" href=https://colab.research.google.com/notebooks/data_table.ipynb>data table notebook</a>'\n",
              "            + ' to learn more about interactive tables.';\n",
              "          element.innerHTML = '';\n",
              "          dataTable['output_type'] = 'display_data';\n",
              "          await google.colab.output.renderOutput(dataTable, element);\n",
              "          const docLink = document.createElement('div');\n",
              "          docLink.innerHTML = docLinkHtml;\n",
              "          element.appendChild(docLink);\n",
              "        }\n",
              "      </script>\n",
              "    </div>\n",
              "  </div>\n",
              "  "
            ]
          },
          "metadata": {},
          "execution_count": 47
        }
      ]
    },
    {
      "cell_type": "markdown",
      "source": [
        "5. Dos cinco cursos mais populares em termos de inscritos, mostre o **rate médio**, **máximo** e **mínimo** de cada um deles."
      ],
      "metadata": {
        "id": "VIN541HgpEwf"
      }
    },
    {
      "cell_type": "code",
      "source": [
        "cursos.sort_values(\"num_subscribers\", ascending=False).head(5)[[\"Rating\"]].describe()"
      ],
      "metadata": {
        "id": "OHt_xYF2pfb5",
        "colab": {
          "base_uri": "https://localhost:8080/",
          "height": 300
        },
        "outputId": "5766c79e-ccd9-4de9-f287-987f01ce422a"
      },
      "execution_count": null,
      "outputs": [
        {
          "output_type": "execute_result",
          "data": {
            "text/plain": [
              "         Rating\n",
              "count  5.000000\n",
              "mean   0.746000\n",
              "std    0.131263\n",
              "min    0.550000\n",
              "25%    0.690000\n",
              "50%    0.780000\n",
              "75%    0.820000\n",
              "max    0.890000"
            ],
            "text/html": [
              "\n",
              "  <div id=\"df-bb33ecb0-94e6-4f86-ac37-42a94066bd9d\">\n",
              "    <div class=\"colab-df-container\">\n",
              "      <div>\n",
              "<style scoped>\n",
              "    .dataframe tbody tr th:only-of-type {\n",
              "        vertical-align: middle;\n",
              "    }\n",
              "\n",
              "    .dataframe tbody tr th {\n",
              "        vertical-align: top;\n",
              "    }\n",
              "\n",
              "    .dataframe thead th {\n",
              "        text-align: right;\n",
              "    }\n",
              "</style>\n",
              "<table border=\"1\" class=\"dataframe\">\n",
              "  <thead>\n",
              "    <tr style=\"text-align: right;\">\n",
              "      <th></th>\n",
              "      <th>Rating</th>\n",
              "    </tr>\n",
              "  </thead>\n",
              "  <tbody>\n",
              "    <tr>\n",
              "      <th>count</th>\n",
              "      <td>5.000000</td>\n",
              "    </tr>\n",
              "    <tr>\n",
              "      <th>mean</th>\n",
              "      <td>0.746000</td>\n",
              "    </tr>\n",
              "    <tr>\n",
              "      <th>std</th>\n",
              "      <td>0.131263</td>\n",
              "    </tr>\n",
              "    <tr>\n",
              "      <th>min</th>\n",
              "      <td>0.550000</td>\n",
              "    </tr>\n",
              "    <tr>\n",
              "      <th>25%</th>\n",
              "      <td>0.690000</td>\n",
              "    </tr>\n",
              "    <tr>\n",
              "      <th>50%</th>\n",
              "      <td>0.780000</td>\n",
              "    </tr>\n",
              "    <tr>\n",
              "      <th>75%</th>\n",
              "      <td>0.820000</td>\n",
              "    </tr>\n",
              "    <tr>\n",
              "      <th>max</th>\n",
              "      <td>0.890000</td>\n",
              "    </tr>\n",
              "  </tbody>\n",
              "</table>\n",
              "</div>\n",
              "      <button class=\"colab-df-convert\" onclick=\"convertToInteractive('df-bb33ecb0-94e6-4f86-ac37-42a94066bd9d')\"\n",
              "              title=\"Convert this dataframe to an interactive table.\"\n",
              "              style=\"display:none;\">\n",
              "        \n",
              "  <svg xmlns=\"http://www.w3.org/2000/svg\" height=\"24px\"viewBox=\"0 0 24 24\"\n",
              "       width=\"24px\">\n",
              "    <path d=\"M0 0h24v24H0V0z\" fill=\"none\"/>\n",
              "    <path d=\"M18.56 5.44l.94 2.06.94-2.06 2.06-.94-2.06-.94-.94-2.06-.94 2.06-2.06.94zm-11 1L8.5 8.5l.94-2.06 2.06-.94-2.06-.94L8.5 2.5l-.94 2.06-2.06.94zm10 10l.94 2.06.94-2.06 2.06-.94-2.06-.94-.94-2.06-.94 2.06-2.06.94z\"/><path d=\"M17.41 7.96l-1.37-1.37c-.4-.4-.92-.59-1.43-.59-.52 0-1.04.2-1.43.59L10.3 9.45l-7.72 7.72c-.78.78-.78 2.05 0 2.83L4 21.41c.39.39.9.59 1.41.59.51 0 1.02-.2 1.41-.59l7.78-7.78 2.81-2.81c.8-.78.8-2.07 0-2.86zM5.41 20L4 18.59l7.72-7.72 1.47 1.35L5.41 20z\"/>\n",
              "  </svg>\n",
              "      </button>\n",
              "      \n",
              "  <style>\n",
              "    .colab-df-container {\n",
              "      display:flex;\n",
              "      flex-wrap:wrap;\n",
              "      gap: 12px;\n",
              "    }\n",
              "\n",
              "    .colab-df-convert {\n",
              "      background-color: #E8F0FE;\n",
              "      border: none;\n",
              "      border-radius: 50%;\n",
              "      cursor: pointer;\n",
              "      display: none;\n",
              "      fill: #1967D2;\n",
              "      height: 32px;\n",
              "      padding: 0 0 0 0;\n",
              "      width: 32px;\n",
              "    }\n",
              "\n",
              "    .colab-df-convert:hover {\n",
              "      background-color: #E2EBFA;\n",
              "      box-shadow: 0px 1px 2px rgba(60, 64, 67, 0.3), 0px 1px 3px 1px rgba(60, 64, 67, 0.15);\n",
              "      fill: #174EA6;\n",
              "    }\n",
              "\n",
              "    [theme=dark] .colab-df-convert {\n",
              "      background-color: #3B4455;\n",
              "      fill: #D2E3FC;\n",
              "    }\n",
              "\n",
              "    [theme=dark] .colab-df-convert:hover {\n",
              "      background-color: #434B5C;\n",
              "      box-shadow: 0px 1px 3px 1px rgba(0, 0, 0, 0.15);\n",
              "      filter: drop-shadow(0px 1px 2px rgba(0, 0, 0, 0.3));\n",
              "      fill: #FFFFFF;\n",
              "    }\n",
              "  </style>\n",
              "\n",
              "      <script>\n",
              "        const buttonEl =\n",
              "          document.querySelector('#df-bb33ecb0-94e6-4f86-ac37-42a94066bd9d button.colab-df-convert');\n",
              "        buttonEl.style.display =\n",
              "          google.colab.kernel.accessAllowed ? 'block' : 'none';\n",
              "\n",
              "        async function convertToInteractive(key) {\n",
              "          const element = document.querySelector('#df-bb33ecb0-94e6-4f86-ac37-42a94066bd9d');\n",
              "          const dataTable =\n",
              "            await google.colab.kernel.invokeFunction('convertToInteractive',\n",
              "                                                     [key], {});\n",
              "          if (!dataTable) return;\n",
              "\n",
              "          const docLinkHtml = 'Like what you see? Visit the ' +\n",
              "            '<a target=\"_blank\" href=https://colab.research.google.com/notebooks/data_table.ipynb>data table notebook</a>'\n",
              "            + ' to learn more about interactive tables.';\n",
              "          element.innerHTML = '';\n",
              "          dataTable['output_type'] = 'display_data';\n",
              "          await google.colab.output.renderOutput(dataTable, element);\n",
              "          const docLink = document.createElement('div');\n",
              "          docLink.innerHTML = docLinkHtml;\n",
              "          element.appendChild(docLink);\n",
              "        }\n",
              "      </script>\n",
              "    </div>\n",
              "  </div>\n",
              "  "
            ]
          },
          "metadata": {},
          "execution_count": 110
        }
      ]
    },
    {
      "cell_type": "code",
      "source": [
        "cursos.sort_values(\"num_subscribers\", ascending=False).head(5)[[\"Rating\"]].mean()"
      ],
      "metadata": {
        "colab": {
          "base_uri": "https://localhost:8080/"
        },
        "id": "2cOGnLYxgtSC",
        "outputId": "138ecb29-58a9-4e16-bc71-43224914f223"
      },
      "execution_count": null,
      "outputs": [
        {
          "output_type": "execute_result",
          "data": {
            "text/plain": [
              "Rating    0.746\n",
              "dtype: float64"
            ]
          },
          "metadata": {},
          "execution_count": 111
        }
      ]
    },
    {
      "cell_type": "code",
      "source": [
        "cursos.sort_values(\"num_subscribers\", ascending=False).head(5)[[\"Rating\"]].max()"
      ],
      "metadata": {
        "colab": {
          "base_uri": "https://localhost:8080/"
        },
        "id": "cTE85N40_1U0",
        "outputId": "d68d40c8-59ed-4f59-ec4f-90a9a222e407"
      },
      "execution_count": null,
      "outputs": [
        {
          "output_type": "execute_result",
          "data": {
            "text/plain": [
              "Rating    0.89\n",
              "dtype: float64"
            ]
          },
          "metadata": {},
          "execution_count": 112
        }
      ]
    },
    {
      "cell_type": "code",
      "source": [
        "cursos.sort_values(\"num_subscribers\", ascending=False).head(5)[[\"Rating\"]].min()"
      ],
      "metadata": {
        "id": "YpQk36Hpg3tB",
        "outputId": "ab02bc06-ded8-427f-a0be-cb399af39933",
        "colab": {
          "base_uri": "https://localhost:8080/"
        }
      },
      "execution_count": null,
      "outputs": [
        {
          "output_type": "execute_result",
          "data": {
            "text/plain": [
              "Rating    0.55\n",
              "dtype: float64"
            ]
          },
          "metadata": {},
          "execution_count": 113
        }
      ]
    },
    {
      "cell_type": "markdown",
      "source": [
        "6. Apresente os dez cursos mais visualizados na plataforma."
      ],
      "metadata": {
        "id": "PBMQyyHTpZ1x"
      }
    },
    {
      "cell_type": "code",
      "source": [
        "mais_vizualizados = cursos.sort_values(\"num_reviews\", ascending=False).head(10)[[\"num_reviews\", \"course_title\", \"Rating\"]]\n",
        "mais_vizualizados"
      ],
      "metadata": {
        "id": "hX7kvC5OqYVt",
        "colab": {
          "base_uri": "https://localhost:8080/",
          "height": 363
        },
        "outputId": "c0cf9065-b4c3-4a2d-d99a-e616d1e2208c"
      },
      "execution_count": null,
      "outputs": [
        {
          "output_type": "execute_result",
          "data": {
            "text/plain": [
              "      num_reviews                                       course_title  Rating\n",
              "2478      27445.0                         the web developer bootcamp    0.89\n",
              "2480      22412.0              the complete web developer course 2.0    0.55\n",
              "2485      19649.0  angular 4 (formerly angular 2) - the complete ...    0.90\n",
              "2484      16976.0          javascript: understanding the weird parts    0.69\n",
              "2497      15117.0                            modern react with redux    0.62\n",
              "2492      11580.0                     learn and understand angularjs    0.87\n",
              "2493      11123.0                        learn and understand nodejs    0.73\n",
              "2476       8629.0               learn html5 programming from scratch    0.82\n",
              "2504       8341.0  angular 2 with typescript for beginners: the p...    0.74\n",
              "1797       7676.0  pianoforall - incredible new way to learn pian...    0.96"
            ],
            "text/html": [
              "\n",
              "  <div id=\"df-0503ef62-a515-426e-aed4-2d17919e3d3c\">\n",
              "    <div class=\"colab-df-container\">\n",
              "      <div>\n",
              "<style scoped>\n",
              "    .dataframe tbody tr th:only-of-type {\n",
              "        vertical-align: middle;\n",
              "    }\n",
              "\n",
              "    .dataframe tbody tr th {\n",
              "        vertical-align: top;\n",
              "    }\n",
              "\n",
              "    .dataframe thead th {\n",
              "        text-align: right;\n",
              "    }\n",
              "</style>\n",
              "<table border=\"1\" class=\"dataframe\">\n",
              "  <thead>\n",
              "    <tr style=\"text-align: right;\">\n",
              "      <th></th>\n",
              "      <th>num_reviews</th>\n",
              "      <th>course_title</th>\n",
              "      <th>Rating</th>\n",
              "    </tr>\n",
              "  </thead>\n",
              "  <tbody>\n",
              "    <tr>\n",
              "      <th>2478</th>\n",
              "      <td>27445.0</td>\n",
              "      <td>the web developer bootcamp</td>\n",
              "      <td>0.89</td>\n",
              "    </tr>\n",
              "    <tr>\n",
              "      <th>2480</th>\n",
              "      <td>22412.0</td>\n",
              "      <td>the complete web developer course 2.0</td>\n",
              "      <td>0.55</td>\n",
              "    </tr>\n",
              "    <tr>\n",
              "      <th>2485</th>\n",
              "      <td>19649.0</td>\n",
              "      <td>angular 4 (formerly angular 2) - the complete ...</td>\n",
              "      <td>0.90</td>\n",
              "    </tr>\n",
              "    <tr>\n",
              "      <th>2484</th>\n",
              "      <td>16976.0</td>\n",
              "      <td>javascript: understanding the weird parts</td>\n",
              "      <td>0.69</td>\n",
              "    </tr>\n",
              "    <tr>\n",
              "      <th>2497</th>\n",
              "      <td>15117.0</td>\n",
              "      <td>modern react with redux</td>\n",
              "      <td>0.62</td>\n",
              "    </tr>\n",
              "    <tr>\n",
              "      <th>2492</th>\n",
              "      <td>11580.0</td>\n",
              "      <td>learn and understand angularjs</td>\n",
              "      <td>0.87</td>\n",
              "    </tr>\n",
              "    <tr>\n",
              "      <th>2493</th>\n",
              "      <td>11123.0</td>\n",
              "      <td>learn and understand nodejs</td>\n",
              "      <td>0.73</td>\n",
              "    </tr>\n",
              "    <tr>\n",
              "      <th>2476</th>\n",
              "      <td>8629.0</td>\n",
              "      <td>learn html5 programming from scratch</td>\n",
              "      <td>0.82</td>\n",
              "    </tr>\n",
              "    <tr>\n",
              "      <th>2504</th>\n",
              "      <td>8341.0</td>\n",
              "      <td>angular 2 with typescript for beginners: the p...</td>\n",
              "      <td>0.74</td>\n",
              "    </tr>\n",
              "    <tr>\n",
              "      <th>1797</th>\n",
              "      <td>7676.0</td>\n",
              "      <td>pianoforall - incredible new way to learn pian...</td>\n",
              "      <td>0.96</td>\n",
              "    </tr>\n",
              "  </tbody>\n",
              "</table>\n",
              "</div>\n",
              "      <button class=\"colab-df-convert\" onclick=\"convertToInteractive('df-0503ef62-a515-426e-aed4-2d17919e3d3c')\"\n",
              "              title=\"Convert this dataframe to an interactive table.\"\n",
              "              style=\"display:none;\">\n",
              "        \n",
              "  <svg xmlns=\"http://www.w3.org/2000/svg\" height=\"24px\"viewBox=\"0 0 24 24\"\n",
              "       width=\"24px\">\n",
              "    <path d=\"M0 0h24v24H0V0z\" fill=\"none\"/>\n",
              "    <path d=\"M18.56 5.44l.94 2.06.94-2.06 2.06-.94-2.06-.94-.94-2.06-.94 2.06-2.06.94zm-11 1L8.5 8.5l.94-2.06 2.06-.94-2.06-.94L8.5 2.5l-.94 2.06-2.06.94zm10 10l.94 2.06.94-2.06 2.06-.94-2.06-.94-.94-2.06-.94 2.06-2.06.94z\"/><path d=\"M17.41 7.96l-1.37-1.37c-.4-.4-.92-.59-1.43-.59-.52 0-1.04.2-1.43.59L10.3 9.45l-7.72 7.72c-.78.78-.78 2.05 0 2.83L4 21.41c.39.39.9.59 1.41.59.51 0 1.02-.2 1.41-.59l7.78-7.78 2.81-2.81c.8-.78.8-2.07 0-2.86zM5.41 20L4 18.59l7.72-7.72 1.47 1.35L5.41 20z\"/>\n",
              "  </svg>\n",
              "      </button>\n",
              "      \n",
              "  <style>\n",
              "    .colab-df-container {\n",
              "      display:flex;\n",
              "      flex-wrap:wrap;\n",
              "      gap: 12px;\n",
              "    }\n",
              "\n",
              "    .colab-df-convert {\n",
              "      background-color: #E8F0FE;\n",
              "      border: none;\n",
              "      border-radius: 50%;\n",
              "      cursor: pointer;\n",
              "      display: none;\n",
              "      fill: #1967D2;\n",
              "      height: 32px;\n",
              "      padding: 0 0 0 0;\n",
              "      width: 32px;\n",
              "    }\n",
              "\n",
              "    .colab-df-convert:hover {\n",
              "      background-color: #E2EBFA;\n",
              "      box-shadow: 0px 1px 2px rgba(60, 64, 67, 0.3), 0px 1px 3px 1px rgba(60, 64, 67, 0.15);\n",
              "      fill: #174EA6;\n",
              "    }\n",
              "\n",
              "    [theme=dark] .colab-df-convert {\n",
              "      background-color: #3B4455;\n",
              "      fill: #D2E3FC;\n",
              "    }\n",
              "\n",
              "    [theme=dark] .colab-df-convert:hover {\n",
              "      background-color: #434B5C;\n",
              "      box-shadow: 0px 1px 3px 1px rgba(0, 0, 0, 0.15);\n",
              "      filter: drop-shadow(0px 1px 2px rgba(0, 0, 0, 0.3));\n",
              "      fill: #FFFFFF;\n",
              "    }\n",
              "  </style>\n",
              "\n",
              "      <script>\n",
              "        const buttonEl =\n",
              "          document.querySelector('#df-0503ef62-a515-426e-aed4-2d17919e3d3c button.colab-df-convert');\n",
              "        buttonEl.style.display =\n",
              "          google.colab.kernel.accessAllowed ? 'block' : 'none';\n",
              "\n",
              "        async function convertToInteractive(key) {\n",
              "          const element = document.querySelector('#df-0503ef62-a515-426e-aed4-2d17919e3d3c');\n",
              "          const dataTable =\n",
              "            await google.colab.kernel.invokeFunction('convertToInteractive',\n",
              "                                                     [key], {});\n",
              "          if (!dataTable) return;\n",
              "\n",
              "          const docLinkHtml = 'Like what you see? Visit the ' +\n",
              "            '<a target=\"_blank\" href=https://colab.research.google.com/notebooks/data_table.ipynb>data table notebook</a>'\n",
              "            + ' to learn more about interactive tables.';\n",
              "          element.innerHTML = '';\n",
              "          dataTable['output_type'] = 'display_data';\n",
              "          await google.colab.output.renderOutput(dataTable, element);\n",
              "          const docLink = document.createElement('div');\n",
              "          docLink.innerHTML = docLinkHtml;\n",
              "          element.appendChild(docLink);\n",
              "        }\n",
              "      </script>\n",
              "    </div>\n",
              "  </div>\n",
              "  "
            ]
          },
          "metadata": {},
          "execution_count": 67
        }
      ]
    },
    {
      "cell_type": "markdown",
      "source": [
        "7. A partir dos dez cursos mais vistos, mostre: 1) qual tem o maior número de inscritos; 2) qual tem o maior **rate** (avaliação do curso)."
      ],
      "metadata": {
        "id": "r4bFZBMIpqlu"
      }
    },
    {
      "cell_type": "code",
      "source": [
        "lista = cursos.sort_values('num_reviews', ascending=False).head(10)\n",
        "mais_inscritos = lista['num_subscribers'].idxmax()\n",
        "cursos['course_title'][mais_inscritos]"
      ],
      "metadata": {
        "colab": {
          "base_uri": "https://localhost:8080/",
          "height": 36
        },
        "id": "T85x_6qFKAG7",
        "outputId": "b20e7051-8b8f-48a4-e7f2-2847f7db60e1"
      },
      "execution_count": null,
      "outputs": [
        {
          "output_type": "execute_result",
          "data": {
            "text/plain": [
              "'learn html5 programming from scratch'"
            ],
            "application/vnd.google.colaboratory.intrinsic+json": {
              "type": "string"
            }
          },
          "metadata": {},
          "execution_count": 100
        }
      ]
    },
    {
      "cell_type": "code",
      "source": [
        "lista = cursos.sort_values('num_reviews', ascending=False).head(10)\n",
        "rate = lista['Rating'].idxmax()\n",
        "cursos['course_title'][rate]"
      ],
      "metadata": {
        "colab": {
          "base_uri": "https://localhost:8080/",
          "height": 36
        },
        "outputId": "aaebaf89-acba-41ee-d945-8a964f8ddd9a",
        "id": "qJTMQtARCLDd"
      },
      "execution_count": null,
      "outputs": [
        {
          "output_type": "execute_result",
          "data": {
            "text/plain": [
              "'pianoforall - incredible new way to learn piano & keyboard'"
            ],
            "application/vnd.google.colaboratory.intrinsic+json": {
              "type": "string"
            }
          },
          "metadata": {},
          "execution_count": 101
        }
      ]
    },
    {
      "cell_type": "markdown",
      "source": [
        "8. Dos cursos listados na base de dados, qual tem maior duração em horas?"
      ],
      "metadata": {
        "id": "Gao_HBG1qZY9"
      }
    },
    {
      "cell_type": "code",
      "source": [
        "cursos.sort_values(\"content_duration\", ascending=False).head(5)"
      ],
      "metadata": {
        "id": "MvSGEfH9qqQK",
        "colab": {
          "base_uri": "https://localhost:8080/",
          "height": 548
        },
        "outputId": "73aba833-b72b-48d4-8c41-ce767f01f92e"
      },
      "execution_count": null,
      "outputs": [
        {
          "output_type": "execute_result",
          "data": {
            "text/plain": [
              "      Unnamed: 0  course_id  \\\n",
              "1358        1358   978576.0   \n",
              "2742        2742   548278.0   \n",
              "253          253   375594.0   \n",
              "727          727   167316.0   \n",
              "1203        1203    62721.0   \n",
              "\n",
              "                                           course_title  \\\n",
              "1358              the complete figure drawing course hd   \n",
              "2742  the complete web development course - build 15...   \n",
              "253             financial management - a complete study   \n",
              "727             trader bot: introdução à linguagem mql5   \n",
              "1203  anatomy for figure drawing: mastering the huma...   \n",
              "\n",
              "                                                    url  price  \\\n",
              "1358  https://www.udemy.com/the-complete-figure-draw...   50.0   \n",
              "2742  https://www.udemy.com/complete-web-development...  200.0   \n",
              "253   https://www.udemy.com/financial-management-a-c...  190.0   \n",
              "727                   https://www.udemy.com/intro-mql5/   20.0   \n",
              "1203  https://www.udemy.com/anatomy-for-figure-drawi...   95.0   \n",
              "\n",
              "      num_subscribers  num_reviews  num_lectures           level  Rating  \\\n",
              "1358           1323.0        136.0         225.0  Beginner Level    0.37   \n",
              "2742           7501.0       1213.0         384.0      All Levels    0.42   \n",
              "253            1941.0        128.0         527.0      All Levels    0.89   \n",
              "727             209.0         33.0          33.0      All Levels    0.66   \n",
              "1203          15500.0        754.0          65.0  Beginner Level    0.41   \n",
              "\n",
              "      content_duration   published_timestamp                   subject  \n",
              "1358              78.5  2016-10-11T21:40:06Z            Graphic Design  \n",
              "2742              76.5  2015-11-09T22:01:02Z  Subject: Web Development  \n",
              "253               71.5  2014-12-22T16:57:30Z          Business Finance  \n",
              "727               70.0  2014-03-07T15:13:45Z          Business Finance  \n",
              "1203              68.5  2013-10-16T11:37:30Z            Graphic Design  "
            ],
            "text/html": [
              "\n",
              "  <div id=\"df-48d935e4-6207-4e37-b117-300e5f507a7b\">\n",
              "    <div class=\"colab-df-container\">\n",
              "      <div>\n",
              "<style scoped>\n",
              "    .dataframe tbody tr th:only-of-type {\n",
              "        vertical-align: middle;\n",
              "    }\n",
              "\n",
              "    .dataframe tbody tr th {\n",
              "        vertical-align: top;\n",
              "    }\n",
              "\n",
              "    .dataframe thead th {\n",
              "        text-align: right;\n",
              "    }\n",
              "</style>\n",
              "<table border=\"1\" class=\"dataframe\">\n",
              "  <thead>\n",
              "    <tr style=\"text-align: right;\">\n",
              "      <th></th>\n",
              "      <th>Unnamed: 0</th>\n",
              "      <th>course_id</th>\n",
              "      <th>course_title</th>\n",
              "      <th>url</th>\n",
              "      <th>price</th>\n",
              "      <th>num_subscribers</th>\n",
              "      <th>num_reviews</th>\n",
              "      <th>num_lectures</th>\n",
              "      <th>level</th>\n",
              "      <th>Rating</th>\n",
              "      <th>content_duration</th>\n",
              "      <th>published_timestamp</th>\n",
              "      <th>subject</th>\n",
              "    </tr>\n",
              "  </thead>\n",
              "  <tbody>\n",
              "    <tr>\n",
              "      <th>1358</th>\n",
              "      <td>1358</td>\n",
              "      <td>978576.0</td>\n",
              "      <td>the complete figure drawing course hd</td>\n",
              "      <td>https://www.udemy.com/the-complete-figure-draw...</td>\n",
              "      <td>50.0</td>\n",
              "      <td>1323.0</td>\n",
              "      <td>136.0</td>\n",
              "      <td>225.0</td>\n",
              "      <td>Beginner Level</td>\n",
              "      <td>0.37</td>\n",
              "      <td>78.5</td>\n",
              "      <td>2016-10-11T21:40:06Z</td>\n",
              "      <td>Graphic Design</td>\n",
              "    </tr>\n",
              "    <tr>\n",
              "      <th>2742</th>\n",
              "      <td>2742</td>\n",
              "      <td>548278.0</td>\n",
              "      <td>the complete web development course - build 15...</td>\n",
              "      <td>https://www.udemy.com/complete-web-development...</td>\n",
              "      <td>200.0</td>\n",
              "      <td>7501.0</td>\n",
              "      <td>1213.0</td>\n",
              "      <td>384.0</td>\n",
              "      <td>All Levels</td>\n",
              "      <td>0.42</td>\n",
              "      <td>76.5</td>\n",
              "      <td>2015-11-09T22:01:02Z</td>\n",
              "      <td>Subject: Web Development</td>\n",
              "    </tr>\n",
              "    <tr>\n",
              "      <th>253</th>\n",
              "      <td>253</td>\n",
              "      <td>375594.0</td>\n",
              "      <td>financial management - a complete study</td>\n",
              "      <td>https://www.udemy.com/financial-management-a-c...</td>\n",
              "      <td>190.0</td>\n",
              "      <td>1941.0</td>\n",
              "      <td>128.0</td>\n",
              "      <td>527.0</td>\n",
              "      <td>All Levels</td>\n",
              "      <td>0.89</td>\n",
              "      <td>71.5</td>\n",
              "      <td>2014-12-22T16:57:30Z</td>\n",
              "      <td>Business Finance</td>\n",
              "    </tr>\n",
              "    <tr>\n",
              "      <th>727</th>\n",
              "      <td>727</td>\n",
              "      <td>167316.0</td>\n",
              "      <td>trader bot: introdução à linguagem mql5</td>\n",
              "      <td>https://www.udemy.com/intro-mql5/</td>\n",
              "      <td>20.0</td>\n",
              "      <td>209.0</td>\n",
              "      <td>33.0</td>\n",
              "      <td>33.0</td>\n",
              "      <td>All Levels</td>\n",
              "      <td>0.66</td>\n",
              "      <td>70.0</td>\n",
              "      <td>2014-03-07T15:13:45Z</td>\n",
              "      <td>Business Finance</td>\n",
              "    </tr>\n",
              "    <tr>\n",
              "      <th>1203</th>\n",
              "      <td>1203</td>\n",
              "      <td>62721.0</td>\n",
              "      <td>anatomy for figure drawing: mastering the huma...</td>\n",
              "      <td>https://www.udemy.com/anatomy-for-figure-drawi...</td>\n",
              "      <td>95.0</td>\n",
              "      <td>15500.0</td>\n",
              "      <td>754.0</td>\n",
              "      <td>65.0</td>\n",
              "      <td>Beginner Level</td>\n",
              "      <td>0.41</td>\n",
              "      <td>68.5</td>\n",
              "      <td>2013-10-16T11:37:30Z</td>\n",
              "      <td>Graphic Design</td>\n",
              "    </tr>\n",
              "  </tbody>\n",
              "</table>\n",
              "</div>\n",
              "      <button class=\"colab-df-convert\" onclick=\"convertToInteractive('df-48d935e4-6207-4e37-b117-300e5f507a7b')\"\n",
              "              title=\"Convert this dataframe to an interactive table.\"\n",
              "              style=\"display:none;\">\n",
              "        \n",
              "  <svg xmlns=\"http://www.w3.org/2000/svg\" height=\"24px\"viewBox=\"0 0 24 24\"\n",
              "       width=\"24px\">\n",
              "    <path d=\"M0 0h24v24H0V0z\" fill=\"none\"/>\n",
              "    <path d=\"M18.56 5.44l.94 2.06.94-2.06 2.06-.94-2.06-.94-.94-2.06-.94 2.06-2.06.94zm-11 1L8.5 8.5l.94-2.06 2.06-.94-2.06-.94L8.5 2.5l-.94 2.06-2.06.94zm10 10l.94 2.06.94-2.06 2.06-.94-2.06-.94-.94-2.06-.94 2.06-2.06.94z\"/><path d=\"M17.41 7.96l-1.37-1.37c-.4-.4-.92-.59-1.43-.59-.52 0-1.04.2-1.43.59L10.3 9.45l-7.72 7.72c-.78.78-.78 2.05 0 2.83L4 21.41c.39.39.9.59 1.41.59.51 0 1.02-.2 1.41-.59l7.78-7.78 2.81-2.81c.8-.78.8-2.07 0-2.86zM5.41 20L4 18.59l7.72-7.72 1.47 1.35L5.41 20z\"/>\n",
              "  </svg>\n",
              "      </button>\n",
              "      \n",
              "  <style>\n",
              "    .colab-df-container {\n",
              "      display:flex;\n",
              "      flex-wrap:wrap;\n",
              "      gap: 12px;\n",
              "    }\n",
              "\n",
              "    .colab-df-convert {\n",
              "      background-color: #E8F0FE;\n",
              "      border: none;\n",
              "      border-radius: 50%;\n",
              "      cursor: pointer;\n",
              "      display: none;\n",
              "      fill: #1967D2;\n",
              "      height: 32px;\n",
              "      padding: 0 0 0 0;\n",
              "      width: 32px;\n",
              "    }\n",
              "\n",
              "    .colab-df-convert:hover {\n",
              "      background-color: #E2EBFA;\n",
              "      box-shadow: 0px 1px 2px rgba(60, 64, 67, 0.3), 0px 1px 3px 1px rgba(60, 64, 67, 0.15);\n",
              "      fill: #174EA6;\n",
              "    }\n",
              "\n",
              "    [theme=dark] .colab-df-convert {\n",
              "      background-color: #3B4455;\n",
              "      fill: #D2E3FC;\n",
              "    }\n",
              "\n",
              "    [theme=dark] .colab-df-convert:hover {\n",
              "      background-color: #434B5C;\n",
              "      box-shadow: 0px 1px 3px 1px rgba(0, 0, 0, 0.15);\n",
              "      filter: drop-shadow(0px 1px 2px rgba(0, 0, 0, 0.3));\n",
              "      fill: #FFFFFF;\n",
              "    }\n",
              "  </style>\n",
              "\n",
              "      <script>\n",
              "        const buttonEl =\n",
              "          document.querySelector('#df-48d935e4-6207-4e37-b117-300e5f507a7b button.colab-df-convert');\n",
              "        buttonEl.style.display =\n",
              "          google.colab.kernel.accessAllowed ? 'block' : 'none';\n",
              "\n",
              "        async function convertToInteractive(key) {\n",
              "          const element = document.querySelector('#df-48d935e4-6207-4e37-b117-300e5f507a7b');\n",
              "          const dataTable =\n",
              "            await google.colab.kernel.invokeFunction('convertToInteractive',\n",
              "                                                     [key], {});\n",
              "          if (!dataTable) return;\n",
              "\n",
              "          const docLinkHtml = 'Like what you see? Visit the ' +\n",
              "            '<a target=\"_blank\" href=https://colab.research.google.com/notebooks/data_table.ipynb>data table notebook</a>'\n",
              "            + ' to learn more about interactive tables.';\n",
              "          element.innerHTML = '';\n",
              "          dataTable['output_type'] = 'display_data';\n",
              "          await google.colab.output.renderOutput(dataTable, element);\n",
              "          const docLink = document.createElement('div');\n",
              "          docLink.innerHTML = docLinkHtml;\n",
              "          element.appendChild(docLink);\n",
              "        }\n",
              "      </script>\n",
              "    </div>\n",
              "  </div>\n",
              "  "
            ]
          },
          "metadata": {},
          "execution_count": 102
        }
      ]
    },
    {
      "cell_type": "code",
      "source": [
        "cursos['content_duration'].idxmax()"
      ],
      "metadata": {
        "colab": {
          "base_uri": "https://localhost:8080/"
        },
        "id": "wMH991lBYbcx",
        "outputId": "19700b28-1927-4634-fc14-a57294e63744"
      },
      "execution_count": null,
      "outputs": [
        {
          "output_type": "execute_result",
          "data": {
            "text/plain": [
              "1358"
            ]
          },
          "metadata": {},
          "execution_count": 103
        }
      ]
    },
    {
      "cell_type": "markdown",
      "source": [
        "9. Dos cursos listados na base de dados, qual tem o maior número de aulas (*lectures*)?"
      ],
      "metadata": {
        "id": "69Evu8BLqrS_"
      }
    },
    {
      "cell_type": "code",
      "source": [
        "cursos.sort_values(\"num_lectures\", ascending=False).head(5)"
      ],
      "metadata": {
        "id": "5uqzhyXmqge0",
        "colab": {
          "base_uri": "https://localhost:8080/",
          "height": 530
        },
        "outputId": "9b30a885-5376-422e-e8b8-cafcb899b21a"
      },
      "execution_count": null,
      "outputs": [
        {
          "output_type": "execute_result",
          "data": {
            "text/plain": [
              "      Unnamed: 0  course_id  \\\n",
              "2556        2556    79154.0   \n",
              "254          254   543242.0   \n",
              "3474        3474   978728.0   \n",
              "253          253   375594.0   \n",
              "2757        2757   481696.0   \n",
              "\n",
              "                                           course_title  \\\n",
              "2556  back to school web development and programming...   \n",
              "254                             learn to trade the news   \n",
              "3474  thoughtful web development course: html, vue.j...   \n",
              "253             financial management - a complete study   \n",
              "2757  code & grow rich: earn more as an entrepreneur...   \n",
              "\n",
              "                                                    url  price  \\\n",
              "2556  https://www.udemy.com/back-to-school-web-devel...  200.0   \n",
              "254      https://www.udemy.com/learn-to-trade-the-news/  200.0   \n",
              "3474  https://www.udemy.com/web-development-html5-cs...  200.0   \n",
              "253   https://www.udemy.com/financial-management-a-c...  190.0   \n",
              "2757  https://www.udemy.com/code-grow-rich-earn-more...  200.0   \n",
              "\n",
              "      num_subscribers  num_reviews  num_lectures           level  Rating  \\\n",
              "2556          18170.0        117.0         779.0      All Levels    0.40   \n",
              "254            1924.0        351.0         544.0      All Levels    0.30   \n",
              "3474            842.0        144.0         536.0  Beginner Level    0.80   \n",
              "253            1941.0        128.0         527.0      All Levels    0.89   \n",
              "2757           7211.0         52.0         491.0      All Levels    0.29   \n",
              "\n",
              "      content_duration   published_timestamp                   subject  \n",
              "2556              44.5  2013-08-19T14:53:00Z  Subject: Web Development  \n",
              "254               46.5  2015-07-16T22:03:29Z          Business Finance  \n",
              "3474              25.0  2016-10-11T14:18:27Z  Subject: Web Development  \n",
              "253               71.5  2014-12-22T16:57:30Z          Business Finance  \n",
              "2757              57.0  2016-02-10T01:09:19Z  Subject: Web Development  "
            ],
            "text/html": [
              "\n",
              "  <div id=\"df-e8f549ee-3ab0-4120-ba98-0889f90f40ef\">\n",
              "    <div class=\"colab-df-container\">\n",
              "      <div>\n",
              "<style scoped>\n",
              "    .dataframe tbody tr th:only-of-type {\n",
              "        vertical-align: middle;\n",
              "    }\n",
              "\n",
              "    .dataframe tbody tr th {\n",
              "        vertical-align: top;\n",
              "    }\n",
              "\n",
              "    .dataframe thead th {\n",
              "        text-align: right;\n",
              "    }\n",
              "</style>\n",
              "<table border=\"1\" class=\"dataframe\">\n",
              "  <thead>\n",
              "    <tr style=\"text-align: right;\">\n",
              "      <th></th>\n",
              "      <th>Unnamed: 0</th>\n",
              "      <th>course_id</th>\n",
              "      <th>course_title</th>\n",
              "      <th>url</th>\n",
              "      <th>price</th>\n",
              "      <th>num_subscribers</th>\n",
              "      <th>num_reviews</th>\n",
              "      <th>num_lectures</th>\n",
              "      <th>level</th>\n",
              "      <th>Rating</th>\n",
              "      <th>content_duration</th>\n",
              "      <th>published_timestamp</th>\n",
              "      <th>subject</th>\n",
              "    </tr>\n",
              "  </thead>\n",
              "  <tbody>\n",
              "    <tr>\n",
              "      <th>2556</th>\n",
              "      <td>2556</td>\n",
              "      <td>79154.0</td>\n",
              "      <td>back to school web development and programming...</td>\n",
              "      <td>https://www.udemy.com/back-to-school-web-devel...</td>\n",
              "      <td>200.0</td>\n",
              "      <td>18170.0</td>\n",
              "      <td>117.0</td>\n",
              "      <td>779.0</td>\n",
              "      <td>All Levels</td>\n",
              "      <td>0.40</td>\n",
              "      <td>44.5</td>\n",
              "      <td>2013-08-19T14:53:00Z</td>\n",
              "      <td>Subject: Web Development</td>\n",
              "    </tr>\n",
              "    <tr>\n",
              "      <th>254</th>\n",
              "      <td>254</td>\n",
              "      <td>543242.0</td>\n",
              "      <td>learn to trade the news</td>\n",
              "      <td>https://www.udemy.com/learn-to-trade-the-news/</td>\n",
              "      <td>200.0</td>\n",
              "      <td>1924.0</td>\n",
              "      <td>351.0</td>\n",
              "      <td>544.0</td>\n",
              "      <td>All Levels</td>\n",
              "      <td>0.30</td>\n",
              "      <td>46.5</td>\n",
              "      <td>2015-07-16T22:03:29Z</td>\n",
              "      <td>Business Finance</td>\n",
              "    </tr>\n",
              "    <tr>\n",
              "      <th>3474</th>\n",
              "      <td>3474</td>\n",
              "      <td>978728.0</td>\n",
              "      <td>thoughtful web development course: html, vue.j...</td>\n",
              "      <td>https://www.udemy.com/web-development-html5-cs...</td>\n",
              "      <td>200.0</td>\n",
              "      <td>842.0</td>\n",
              "      <td>144.0</td>\n",
              "      <td>536.0</td>\n",
              "      <td>Beginner Level</td>\n",
              "      <td>0.80</td>\n",
              "      <td>25.0</td>\n",
              "      <td>2016-10-11T14:18:27Z</td>\n",
              "      <td>Subject: Web Development</td>\n",
              "    </tr>\n",
              "    <tr>\n",
              "      <th>253</th>\n",
              "      <td>253</td>\n",
              "      <td>375594.0</td>\n",
              "      <td>financial management - a complete study</td>\n",
              "      <td>https://www.udemy.com/financial-management-a-c...</td>\n",
              "      <td>190.0</td>\n",
              "      <td>1941.0</td>\n",
              "      <td>128.0</td>\n",
              "      <td>527.0</td>\n",
              "      <td>All Levels</td>\n",
              "      <td>0.89</td>\n",
              "      <td>71.5</td>\n",
              "      <td>2014-12-22T16:57:30Z</td>\n",
              "      <td>Business Finance</td>\n",
              "    </tr>\n",
              "    <tr>\n",
              "      <th>2757</th>\n",
              "      <td>2757</td>\n",
              "      <td>481696.0</td>\n",
              "      <td>code &amp; grow rich: earn more as an entrepreneur...</td>\n",
              "      <td>https://www.udemy.com/code-grow-rich-earn-more...</td>\n",
              "      <td>200.0</td>\n",
              "      <td>7211.0</td>\n",
              "      <td>52.0</td>\n",
              "      <td>491.0</td>\n",
              "      <td>All Levels</td>\n",
              "      <td>0.29</td>\n",
              "      <td>57.0</td>\n",
              "      <td>2016-02-10T01:09:19Z</td>\n",
              "      <td>Subject: Web Development</td>\n",
              "    </tr>\n",
              "  </tbody>\n",
              "</table>\n",
              "</div>\n",
              "      <button class=\"colab-df-convert\" onclick=\"convertToInteractive('df-e8f549ee-3ab0-4120-ba98-0889f90f40ef')\"\n",
              "              title=\"Convert this dataframe to an interactive table.\"\n",
              "              style=\"display:none;\">\n",
              "        \n",
              "  <svg xmlns=\"http://www.w3.org/2000/svg\" height=\"24px\"viewBox=\"0 0 24 24\"\n",
              "       width=\"24px\">\n",
              "    <path d=\"M0 0h24v24H0V0z\" fill=\"none\"/>\n",
              "    <path d=\"M18.56 5.44l.94 2.06.94-2.06 2.06-.94-2.06-.94-.94-2.06-.94 2.06-2.06.94zm-11 1L8.5 8.5l.94-2.06 2.06-.94-2.06-.94L8.5 2.5l-.94 2.06-2.06.94zm10 10l.94 2.06.94-2.06 2.06-.94-2.06-.94-.94-2.06-.94 2.06-2.06.94z\"/><path d=\"M17.41 7.96l-1.37-1.37c-.4-.4-.92-.59-1.43-.59-.52 0-1.04.2-1.43.59L10.3 9.45l-7.72 7.72c-.78.78-.78 2.05 0 2.83L4 21.41c.39.39.9.59 1.41.59.51 0 1.02-.2 1.41-.59l7.78-7.78 2.81-2.81c.8-.78.8-2.07 0-2.86zM5.41 20L4 18.59l7.72-7.72 1.47 1.35L5.41 20z\"/>\n",
              "  </svg>\n",
              "      </button>\n",
              "      \n",
              "  <style>\n",
              "    .colab-df-container {\n",
              "      display:flex;\n",
              "      flex-wrap:wrap;\n",
              "      gap: 12px;\n",
              "    }\n",
              "\n",
              "    .colab-df-convert {\n",
              "      background-color: #E8F0FE;\n",
              "      border: none;\n",
              "      border-radius: 50%;\n",
              "      cursor: pointer;\n",
              "      display: none;\n",
              "      fill: #1967D2;\n",
              "      height: 32px;\n",
              "      padding: 0 0 0 0;\n",
              "      width: 32px;\n",
              "    }\n",
              "\n",
              "    .colab-df-convert:hover {\n",
              "      background-color: #E2EBFA;\n",
              "      box-shadow: 0px 1px 2px rgba(60, 64, 67, 0.3), 0px 1px 3px 1px rgba(60, 64, 67, 0.15);\n",
              "      fill: #174EA6;\n",
              "    }\n",
              "\n",
              "    [theme=dark] .colab-df-convert {\n",
              "      background-color: #3B4455;\n",
              "      fill: #D2E3FC;\n",
              "    }\n",
              "\n",
              "    [theme=dark] .colab-df-convert:hover {\n",
              "      background-color: #434B5C;\n",
              "      box-shadow: 0px 1px 3px 1px rgba(0, 0, 0, 0.15);\n",
              "      filter: drop-shadow(0px 1px 2px rgba(0, 0, 0, 0.3));\n",
              "      fill: #FFFFFF;\n",
              "    }\n",
              "  </style>\n",
              "\n",
              "      <script>\n",
              "        const buttonEl =\n",
              "          document.querySelector('#df-e8f549ee-3ab0-4120-ba98-0889f90f40ef button.colab-df-convert');\n",
              "        buttonEl.style.display =\n",
              "          google.colab.kernel.accessAllowed ? 'block' : 'none';\n",
              "\n",
              "        async function convertToInteractive(key) {\n",
              "          const element = document.querySelector('#df-e8f549ee-3ab0-4120-ba98-0889f90f40ef');\n",
              "          const dataTable =\n",
              "            await google.colab.kernel.invokeFunction('convertToInteractive',\n",
              "                                                     [key], {});\n",
              "          if (!dataTable) return;\n",
              "\n",
              "          const docLinkHtml = 'Like what you see? Visit the ' +\n",
              "            '<a target=\"_blank\" href=https://colab.research.google.com/notebooks/data_table.ipynb>data table notebook</a>'\n",
              "            + ' to learn more about interactive tables.';\n",
              "          element.innerHTML = '';\n",
              "          dataTable['output_type'] = 'display_data';\n",
              "          await google.colab.output.renderOutput(dataTable, element);\n",
              "          const docLink = document.createElement('div');\n",
              "          docLink.innerHTML = docLinkHtml;\n",
              "          element.appendChild(docLink);\n",
              "        }\n",
              "      </script>\n",
              "    </div>\n",
              "  </div>\n",
              "  "
            ]
          },
          "metadata": {},
          "execution_count": 105
        }
      ]
    },
    {
      "cell_type": "code",
      "source": [
        "aulas = cursos[\"num_lectures\"].idxmax()\n",
        "cursos['course_title'][aulas]"
      ],
      "metadata": {
        "colab": {
          "base_uri": "https://localhost:8080/",
          "height": 36
        },
        "id": "UWlZcCuKf9Wj",
        "outputId": "a8ebc402-ff89-4571-ba08-cb516fe73e37"
      },
      "execution_count": null,
      "outputs": [
        {
          "output_type": "execute_result",
          "data": {
            "text/plain": [
              "'back to school web development and programming bundle'"
            ],
            "application/vnd.google.colaboratory.intrinsic+json": {
              "type": "string"
            }
          },
          "metadata": {},
          "execution_count": 106
        }
      ]
    },
    {
      "cell_type": "markdown",
      "source": [
        "10. Apresente o número (contagem) de cursos agrupados por nível (coluna *level*)."
      ],
      "metadata": {
        "id": "wVg9qj3WrD5h"
      }
    },
    {
      "cell_type": "code",
      "source": [
        "cursos.groupby(\"level\").count()"
      ],
      "metadata": {
        "id": "7KyIy5m3rSoI",
        "colab": {
          "base_uri": "https://localhost:8080/",
          "height": 206
        },
        "outputId": "81f4a70b-a1f2-4392-fdaf-233b9dcdb190"
      },
      "execution_count": null,
      "outputs": [
        {
          "output_type": "execute_result",
          "data": {
            "text/plain": [
              "                    Unnamed: 0  course_id  course_title   url  price  \\\n",
              "level                                                                  \n",
              "All Levels                1925       1925          1925  1925   1925   \n",
              "Beginner Level            1271       1271          1271  1271   1271   \n",
              "Expert Level                58         58            58    58     58   \n",
              "Intermediate Level         422        422           422   422    422   \n",
              "\n",
              "                    num_subscribers  num_reviews  num_lectures  Rating  \\\n",
              "level                                                                    \n",
              "All Levels                     1925         1925          1925    1925   \n",
              "Beginner Level                 1271         1271          1271    1271   \n",
              "Expert Level                     58           58            58      58   \n",
              "Intermediate Level              422          422           422     422   \n",
              "\n",
              "                    content_duration  published_timestamp  subject  \n",
              "level                                                               \n",
              "All Levels                      1925                 1925     1925  \n",
              "Beginner Level                  1271                 1271     1271  \n",
              "Expert Level                      58                   58       58  \n",
              "Intermediate Level               422                  422      422  "
            ],
            "text/html": [
              "\n",
              "  <div id=\"df-cb46bcd3-c40f-45c5-a70a-3e6fb9c57abd\">\n",
              "    <div class=\"colab-df-container\">\n",
              "      <div>\n",
              "<style scoped>\n",
              "    .dataframe tbody tr th:only-of-type {\n",
              "        vertical-align: middle;\n",
              "    }\n",
              "\n",
              "    .dataframe tbody tr th {\n",
              "        vertical-align: top;\n",
              "    }\n",
              "\n",
              "    .dataframe thead th {\n",
              "        text-align: right;\n",
              "    }\n",
              "</style>\n",
              "<table border=\"1\" class=\"dataframe\">\n",
              "  <thead>\n",
              "    <tr style=\"text-align: right;\">\n",
              "      <th></th>\n",
              "      <th>Unnamed: 0</th>\n",
              "      <th>course_id</th>\n",
              "      <th>course_title</th>\n",
              "      <th>url</th>\n",
              "      <th>price</th>\n",
              "      <th>num_subscribers</th>\n",
              "      <th>num_reviews</th>\n",
              "      <th>num_lectures</th>\n",
              "      <th>Rating</th>\n",
              "      <th>content_duration</th>\n",
              "      <th>published_timestamp</th>\n",
              "      <th>subject</th>\n",
              "    </tr>\n",
              "    <tr>\n",
              "      <th>level</th>\n",
              "      <th></th>\n",
              "      <th></th>\n",
              "      <th></th>\n",
              "      <th></th>\n",
              "      <th></th>\n",
              "      <th></th>\n",
              "      <th></th>\n",
              "      <th></th>\n",
              "      <th></th>\n",
              "      <th></th>\n",
              "      <th></th>\n",
              "      <th></th>\n",
              "    </tr>\n",
              "  </thead>\n",
              "  <tbody>\n",
              "    <tr>\n",
              "      <th>All Levels</th>\n",
              "      <td>1925</td>\n",
              "      <td>1925</td>\n",
              "      <td>1925</td>\n",
              "      <td>1925</td>\n",
              "      <td>1925</td>\n",
              "      <td>1925</td>\n",
              "      <td>1925</td>\n",
              "      <td>1925</td>\n",
              "      <td>1925</td>\n",
              "      <td>1925</td>\n",
              "      <td>1925</td>\n",
              "      <td>1925</td>\n",
              "    </tr>\n",
              "    <tr>\n",
              "      <th>Beginner Level</th>\n",
              "      <td>1271</td>\n",
              "      <td>1271</td>\n",
              "      <td>1271</td>\n",
              "      <td>1271</td>\n",
              "      <td>1271</td>\n",
              "      <td>1271</td>\n",
              "      <td>1271</td>\n",
              "      <td>1271</td>\n",
              "      <td>1271</td>\n",
              "      <td>1271</td>\n",
              "      <td>1271</td>\n",
              "      <td>1271</td>\n",
              "    </tr>\n",
              "    <tr>\n",
              "      <th>Expert Level</th>\n",
              "      <td>58</td>\n",
              "      <td>58</td>\n",
              "      <td>58</td>\n",
              "      <td>58</td>\n",
              "      <td>58</td>\n",
              "      <td>58</td>\n",
              "      <td>58</td>\n",
              "      <td>58</td>\n",
              "      <td>58</td>\n",
              "      <td>58</td>\n",
              "      <td>58</td>\n",
              "      <td>58</td>\n",
              "    </tr>\n",
              "    <tr>\n",
              "      <th>Intermediate Level</th>\n",
              "      <td>422</td>\n",
              "      <td>422</td>\n",
              "      <td>422</td>\n",
              "      <td>422</td>\n",
              "      <td>422</td>\n",
              "      <td>422</td>\n",
              "      <td>422</td>\n",
              "      <td>422</td>\n",
              "      <td>422</td>\n",
              "      <td>422</td>\n",
              "      <td>422</td>\n",
              "      <td>422</td>\n",
              "    </tr>\n",
              "  </tbody>\n",
              "</table>\n",
              "</div>\n",
              "      <button class=\"colab-df-convert\" onclick=\"convertToInteractive('df-cb46bcd3-c40f-45c5-a70a-3e6fb9c57abd')\"\n",
              "              title=\"Convert this dataframe to an interactive table.\"\n",
              "              style=\"display:none;\">\n",
              "        \n",
              "  <svg xmlns=\"http://www.w3.org/2000/svg\" height=\"24px\"viewBox=\"0 0 24 24\"\n",
              "       width=\"24px\">\n",
              "    <path d=\"M0 0h24v24H0V0z\" fill=\"none\"/>\n",
              "    <path d=\"M18.56 5.44l.94 2.06.94-2.06 2.06-.94-2.06-.94-.94-2.06-.94 2.06-2.06.94zm-11 1L8.5 8.5l.94-2.06 2.06-.94-2.06-.94L8.5 2.5l-.94 2.06-2.06.94zm10 10l.94 2.06.94-2.06 2.06-.94-2.06-.94-.94-2.06-.94 2.06-2.06.94z\"/><path d=\"M17.41 7.96l-1.37-1.37c-.4-.4-.92-.59-1.43-.59-.52 0-1.04.2-1.43.59L10.3 9.45l-7.72 7.72c-.78.78-.78 2.05 0 2.83L4 21.41c.39.39.9.59 1.41.59.51 0 1.02-.2 1.41-.59l7.78-7.78 2.81-2.81c.8-.78.8-2.07 0-2.86zM5.41 20L4 18.59l7.72-7.72 1.47 1.35L5.41 20z\"/>\n",
              "  </svg>\n",
              "      </button>\n",
              "      \n",
              "  <style>\n",
              "    .colab-df-container {\n",
              "      display:flex;\n",
              "      flex-wrap:wrap;\n",
              "      gap: 12px;\n",
              "    }\n",
              "\n",
              "    .colab-df-convert {\n",
              "      background-color: #E8F0FE;\n",
              "      border: none;\n",
              "      border-radius: 50%;\n",
              "      cursor: pointer;\n",
              "      display: none;\n",
              "      fill: #1967D2;\n",
              "      height: 32px;\n",
              "      padding: 0 0 0 0;\n",
              "      width: 32px;\n",
              "    }\n",
              "\n",
              "    .colab-df-convert:hover {\n",
              "      background-color: #E2EBFA;\n",
              "      box-shadow: 0px 1px 2px rgba(60, 64, 67, 0.3), 0px 1px 3px 1px rgba(60, 64, 67, 0.15);\n",
              "      fill: #174EA6;\n",
              "    }\n",
              "\n",
              "    [theme=dark] .colab-df-convert {\n",
              "      background-color: #3B4455;\n",
              "      fill: #D2E3FC;\n",
              "    }\n",
              "\n",
              "    [theme=dark] .colab-df-convert:hover {\n",
              "      background-color: #434B5C;\n",
              "      box-shadow: 0px 1px 3px 1px rgba(0, 0, 0, 0.15);\n",
              "      filter: drop-shadow(0px 1px 2px rgba(0, 0, 0, 0.3));\n",
              "      fill: #FFFFFF;\n",
              "    }\n",
              "  </style>\n",
              "\n",
              "      <script>\n",
              "        const buttonEl =\n",
              "          document.querySelector('#df-cb46bcd3-c40f-45c5-a70a-3e6fb9c57abd button.colab-df-convert');\n",
              "        buttonEl.style.display =\n",
              "          google.colab.kernel.accessAllowed ? 'block' : 'none';\n",
              "\n",
              "        async function convertToInteractive(key) {\n",
              "          const element = document.querySelector('#df-cb46bcd3-c40f-45c5-a70a-3e6fb9c57abd');\n",
              "          const dataTable =\n",
              "            await google.colab.kernel.invokeFunction('convertToInteractive',\n",
              "                                                     [key], {});\n",
              "          if (!dataTable) return;\n",
              "\n",
              "          const docLinkHtml = 'Like what you see? Visit the ' +\n",
              "            '<a target=\"_blank\" href=https://colab.research.google.com/notebooks/data_table.ipynb>data table notebook</a>'\n",
              "            + ' to learn more about interactive tables.';\n",
              "          element.innerHTML = '';\n",
              "          dataTable['output_type'] = 'display_data';\n",
              "          await google.colab.output.renderOutput(dataTable, element);\n",
              "          const docLink = document.createElement('div');\n",
              "          docLink.innerHTML = docLinkHtml;\n",
              "          element.appendChild(docLink);\n",
              "        }\n",
              "      </script>\n",
              "    </div>\n",
              "  </div>\n",
              "  "
            ]
          },
          "metadata": {},
          "execution_count": 91
        }
      ]
    },
    {
      "cell_type": "code",
      "source": [
        "cursos.groupby(\"level\")[\"course_id\"].count()"
      ],
      "metadata": {
        "colab": {
          "base_uri": "https://localhost:8080/"
        },
        "id": "52A_2bYINWz1",
        "outputId": "e923f4cd-21d8-460e-e7f3-e7ff03b7e312"
      },
      "execution_count": null,
      "outputs": [
        {
          "output_type": "execute_result",
          "data": {
            "text/plain": [
              "level\n",
              "All Levels            1925\n",
              "Beginner Level        1271\n",
              "Expert Level            58\n",
              "Intermediate Level     422\n",
              "Name: course_id, dtype: int64"
            ]
          },
          "metadata": {},
          "execution_count": 92
        }
      ]
    },
    {
      "cell_type": "markdown",
      "source": [
        "11. Quais são os cursos mais recentes contidos na base de dados?"
      ],
      "metadata": {
        "id": "xPzjlE_crTJY"
      }
    },
    {
      "cell_type": "code",
      "source": [
        "cursos[\"published_timestamp\"]"
      ],
      "metadata": {
        "id": "nK_H8JxYrYWZ",
        "colab": {
          "base_uri": "https://localhost:8080/"
        },
        "outputId": "24ce5404-7610-49f7-bd41-d80aa8b51168"
      },
      "execution_count": null,
      "outputs": [
        {
          "output_type": "execute_result",
          "data": {
            "text/plain": [
              "0       2013-04-20T02:25:22Z\n",
              "1       2013-04-07T21:39:25Z\n",
              "2       2013-12-25T19:53:34Z\n",
              "3       2014-05-27T16:22:16Z\n",
              "4       2016-01-21T01:38:48Z\n",
              "                ...         \n",
              "3676    2017-05-29T17:56:24Z\n",
              "3677    2017-07-06T15:04:55Z\n",
              "3678    2017-06-11T18:34:40Z\n",
              "3679    2017-06-15T21:17:43Z\n",
              "3680    2017-06-28T21:04:21Z\n",
              "Name: published_timestamp, Length: 3681, dtype: object"
            ]
          },
          "metadata": {},
          "execution_count": 93
        }
      ]
    },
    {
      "cell_type": "code",
      "source": [
        "cursos.sort_values('published_timestamp', ascending=False).head(10)[['course_title','published_timestamp']]"
      ],
      "metadata": {
        "colab": {
          "base_uri": "https://localhost:8080/",
          "height": 363
        },
        "id": "NKgfgdSzNz7G",
        "outputId": "4b5faac0-0fe2-45d4-e42d-0230295eaa90"
      },
      "execution_count": null,
      "outputs": [
        {
          "output_type": "execute_result",
          "data": {
            "text/plain": [
              "                                           course_title   published_timestamp\n",
              "1183  cryptocurrency (btc & eth) investment & tradin...  2017-07-06T21:46:30Z\n",
              "1164  forex how traders beat the markest with little...  2017-07-06T21:16:13Z\n",
              "1027  condor broken wing butterfly options trading c...  2017-07-06T19:47:16Z\n",
              "2465  abrsm grade iii piano class - handel sonatina ...  2017-07-06T16:12:34Z\n",
              "3677                            angular 4 front to back  2017-07-06T15:04:55Z\n",
              "1504     photoshop isn't like what you imagine a to z .  2017-07-06T03:32:48Z\n",
              "1166  practical film financing: finding & pitching i...  2017-07-05T21:46:55Z\n",
              "1142        bitcoin & ethereum course (2 course bundle)  2017-07-05T19:06:26Z\n",
              "2475                              4 week rhythm mastery  2017-07-05T16:07:44Z\n",
              "1156  options trading foundation: your journey to co...  2017-07-05T04:41:54Z"
            ],
            "text/html": [
              "\n",
              "  <div id=\"df-ba1623fc-7f50-46b0-96b5-3ac04e7598c9\">\n",
              "    <div class=\"colab-df-container\">\n",
              "      <div>\n",
              "<style scoped>\n",
              "    .dataframe tbody tr th:only-of-type {\n",
              "        vertical-align: middle;\n",
              "    }\n",
              "\n",
              "    .dataframe tbody tr th {\n",
              "        vertical-align: top;\n",
              "    }\n",
              "\n",
              "    .dataframe thead th {\n",
              "        text-align: right;\n",
              "    }\n",
              "</style>\n",
              "<table border=\"1\" class=\"dataframe\">\n",
              "  <thead>\n",
              "    <tr style=\"text-align: right;\">\n",
              "      <th></th>\n",
              "      <th>course_title</th>\n",
              "      <th>published_timestamp</th>\n",
              "    </tr>\n",
              "  </thead>\n",
              "  <tbody>\n",
              "    <tr>\n",
              "      <th>1183</th>\n",
              "      <td>cryptocurrency (btc &amp; eth) investment &amp; tradin...</td>\n",
              "      <td>2017-07-06T21:46:30Z</td>\n",
              "    </tr>\n",
              "    <tr>\n",
              "      <th>1164</th>\n",
              "      <td>forex how traders beat the markest with little...</td>\n",
              "      <td>2017-07-06T21:16:13Z</td>\n",
              "    </tr>\n",
              "    <tr>\n",
              "      <th>1027</th>\n",
              "      <td>condor broken wing butterfly options trading c...</td>\n",
              "      <td>2017-07-06T19:47:16Z</td>\n",
              "    </tr>\n",
              "    <tr>\n",
              "      <th>2465</th>\n",
              "      <td>abrsm grade iii piano class - handel sonatina ...</td>\n",
              "      <td>2017-07-06T16:12:34Z</td>\n",
              "    </tr>\n",
              "    <tr>\n",
              "      <th>3677</th>\n",
              "      <td>angular 4 front to back</td>\n",
              "      <td>2017-07-06T15:04:55Z</td>\n",
              "    </tr>\n",
              "    <tr>\n",
              "      <th>1504</th>\n",
              "      <td>photoshop isn't like what you imagine a to z .</td>\n",
              "      <td>2017-07-06T03:32:48Z</td>\n",
              "    </tr>\n",
              "    <tr>\n",
              "      <th>1166</th>\n",
              "      <td>practical film financing: finding &amp; pitching i...</td>\n",
              "      <td>2017-07-05T21:46:55Z</td>\n",
              "    </tr>\n",
              "    <tr>\n",
              "      <th>1142</th>\n",
              "      <td>bitcoin &amp; ethereum course (2 course bundle)</td>\n",
              "      <td>2017-07-05T19:06:26Z</td>\n",
              "    </tr>\n",
              "    <tr>\n",
              "      <th>2475</th>\n",
              "      <td>4 week rhythm mastery</td>\n",
              "      <td>2017-07-05T16:07:44Z</td>\n",
              "    </tr>\n",
              "    <tr>\n",
              "      <th>1156</th>\n",
              "      <td>options trading foundation: your journey to co...</td>\n",
              "      <td>2017-07-05T04:41:54Z</td>\n",
              "    </tr>\n",
              "  </tbody>\n",
              "</table>\n",
              "</div>\n",
              "      <button class=\"colab-df-convert\" onclick=\"convertToInteractive('df-ba1623fc-7f50-46b0-96b5-3ac04e7598c9')\"\n",
              "              title=\"Convert this dataframe to an interactive table.\"\n",
              "              style=\"display:none;\">\n",
              "        \n",
              "  <svg xmlns=\"http://www.w3.org/2000/svg\" height=\"24px\"viewBox=\"0 0 24 24\"\n",
              "       width=\"24px\">\n",
              "    <path d=\"M0 0h24v24H0V0z\" fill=\"none\"/>\n",
              "    <path d=\"M18.56 5.44l.94 2.06.94-2.06 2.06-.94-2.06-.94-.94-2.06-.94 2.06-2.06.94zm-11 1L8.5 8.5l.94-2.06 2.06-.94-2.06-.94L8.5 2.5l-.94 2.06-2.06.94zm10 10l.94 2.06.94-2.06 2.06-.94-2.06-.94-.94-2.06-.94 2.06-2.06.94z\"/><path d=\"M17.41 7.96l-1.37-1.37c-.4-.4-.92-.59-1.43-.59-.52 0-1.04.2-1.43.59L10.3 9.45l-7.72 7.72c-.78.78-.78 2.05 0 2.83L4 21.41c.39.39.9.59 1.41.59.51 0 1.02-.2 1.41-.59l7.78-7.78 2.81-2.81c.8-.78.8-2.07 0-2.86zM5.41 20L4 18.59l7.72-7.72 1.47 1.35L5.41 20z\"/>\n",
              "  </svg>\n",
              "      </button>\n",
              "      \n",
              "  <style>\n",
              "    .colab-df-container {\n",
              "      display:flex;\n",
              "      flex-wrap:wrap;\n",
              "      gap: 12px;\n",
              "    }\n",
              "\n",
              "    .colab-df-convert {\n",
              "      background-color: #E8F0FE;\n",
              "      border: none;\n",
              "      border-radius: 50%;\n",
              "      cursor: pointer;\n",
              "      display: none;\n",
              "      fill: #1967D2;\n",
              "      height: 32px;\n",
              "      padding: 0 0 0 0;\n",
              "      width: 32px;\n",
              "    }\n",
              "\n",
              "    .colab-df-convert:hover {\n",
              "      background-color: #E2EBFA;\n",
              "      box-shadow: 0px 1px 2px rgba(60, 64, 67, 0.3), 0px 1px 3px 1px rgba(60, 64, 67, 0.15);\n",
              "      fill: #174EA6;\n",
              "    }\n",
              "\n",
              "    [theme=dark] .colab-df-convert {\n",
              "      background-color: #3B4455;\n",
              "      fill: #D2E3FC;\n",
              "    }\n",
              "\n",
              "    [theme=dark] .colab-df-convert:hover {\n",
              "      background-color: #434B5C;\n",
              "      box-shadow: 0px 1px 3px 1px rgba(0, 0, 0, 0.15);\n",
              "      filter: drop-shadow(0px 1px 2px rgba(0, 0, 0, 0.3));\n",
              "      fill: #FFFFFF;\n",
              "    }\n",
              "  </style>\n",
              "\n",
              "      <script>\n",
              "        const buttonEl =\n",
              "          document.querySelector('#df-ba1623fc-7f50-46b0-96b5-3ac04e7598c9 button.colab-df-convert');\n",
              "        buttonEl.style.display =\n",
              "          google.colab.kernel.accessAllowed ? 'block' : 'none';\n",
              "\n",
              "        async function convertToInteractive(key) {\n",
              "          const element = document.querySelector('#df-ba1623fc-7f50-46b0-96b5-3ac04e7598c9');\n",
              "          const dataTable =\n",
              "            await google.colab.kernel.invokeFunction('convertToInteractive',\n",
              "                                                     [key], {});\n",
              "          if (!dataTable) return;\n",
              "\n",
              "          const docLinkHtml = 'Like what you see? Visit the ' +\n",
              "            '<a target=\"_blank\" href=https://colab.research.google.com/notebooks/data_table.ipynb>data table notebook</a>'\n",
              "            + ' to learn more about interactive tables.';\n",
              "          element.innerHTML = '';\n",
              "          dataTable['output_type'] = 'display_data';\n",
              "          await google.colab.output.renderOutput(dataTable, element);\n",
              "          const docLink = document.createElement('div');\n",
              "          docLink.innerHTML = docLinkHtml;\n",
              "          element.appendChild(docLink);\n",
              "        }\n",
              "      </script>\n",
              "    </div>\n",
              "  </div>\n",
              "  "
            ]
          },
          "metadata": {},
          "execution_count": 107
        }
      ]
    },
    {
      "cell_type": "markdown",
      "source": [
        "12. Apresente o número (contagem) de cursos agrupados por nível (coluna *level*) e por assunto (coluna *subject*)."
      ],
      "metadata": {
        "id": "cwzez2xhsYLa"
      }
    },
    {
      "cell_type": "code",
      "source": [
        "cursos.groupby(['level', 'subject'])['course_title'].count()"
      ],
      "metadata": {
        "id": "7BXn9iPmsoCm",
        "colab": {
          "base_uri": "https://localhost:8080/"
        },
        "outputId": "cc219662-c8c1-415d-b2e8-c76ad84abf57"
      },
      "execution_count": null,
      "outputs": [
        {
          "output_type": "execute_result",
          "data": {
            "text/plain": [
              "level               subject                 \n",
              "All Levels          Business Finance            633\n",
              "                    Graphic Design              335\n",
              "                    Musical Instruments         324\n",
              "                    Subject: Web Development    633\n",
              "Beginner Level      Business Finance            399\n",
              "                    Graphic Design              184\n",
              "                    Musical Instruments         266\n",
              "                    Subject: Web Development    422\n",
              "Expert Level        Business Finance             25\n",
              "                    Graphic Design                7\n",
              "                    Musical Instruments          12\n",
              "                    Subject: Web Development     14\n",
              "Intermediate Level  Business Finance            134\n",
              "                    Graphic Design               76\n",
              "                    Musical Instruments          78\n",
              "                    Subject: Web Development    134\n",
              "Name: course_title, dtype: int64"
            ]
          },
          "metadata": {},
          "execution_count": 109
        }
      ]
    },
    {
      "cell_type": "markdown",
      "source": [
        "13. Disponibilize suas análises em um repositório do Github e compartilhe o link abaixo."
      ],
      "metadata": {
        "id": "UoU_pvOUutMo"
      }
    },
    {
      "cell_type": "code",
      "source": [
        "# link do projeto no Github"
      ],
      "metadata": {
        "id": "NjNInZBBu3Rl"
      },
      "execution_count": null,
      "outputs": []
    },
    {
      "cell_type": "markdown",
      "source": [
        "14. Crie uma conta no <a href=\"https://www.kaggle.com/datasets/thedevastator/udemy-courses-revenue-generation-and-course-anal\">Kaggle</a> e crie um Notebook com as análises feitas neste projeto. A ideia aqui, é que você comece a criar um portfólio de análise de dados na plataforma :)"
      ],
      "metadata": {
        "id": "CPKWugdJvXQf"
      }
    },
    {
      "cell_type": "code",
      "source": [],
      "metadata": {
        "id": "YztEtLuqvWRe"
      },
      "execution_count": null,
      "outputs": []
    }
  ]
}